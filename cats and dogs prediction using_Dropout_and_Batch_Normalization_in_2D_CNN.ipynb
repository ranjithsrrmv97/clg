{
  "nbformat": 4,
  "nbformat_minor": 0,
  "metadata": {
    "colab": {
      "name": "Dropout and Batch Normalization in 2D CNN.ipynb",
      "provenance": [],
      "collapsed_sections": []
    },
    "kernelspec": {
      "name": "python3",
      "display_name": "Python 3"
    },
    "accelerator": "TPU"
  },
  "cells": [
    {
      "cell_type": "code",
      "metadata": {
        "id": "cvSRLPZ7pPyq",
        "colab_type": "code",
        "outputId": "596dfb6d-e50f-47ce-b915-994a5bddb44a",
        "colab": {
          "base_uri": "https://localhost:8080/",
          "height": 530
        }
      },
      "source": [
        "!pip install tensorflow-gpu==2.0.0-rc0"
      ],
      "execution_count": 0,
      "outputs": [
        {
          "output_type": "stream",
          "text": [
            "Collecting tensorflow-gpu==2.0.0-rc0\n",
            "\u001b[?25l  Downloading https://files.pythonhosted.org/packages/6a/12/8c64cc62149cc21c70c55018502831bbf4d42bd62bed196df7de6830d21b/tensorflow_gpu-2.0.0rc0-cp36-cp36m-manylinux2010_x86_64.whl (380.5MB)\n",
            "\u001b[K     |████████████████████████████████| 380.5MB 42kB/s \n",
            "\u001b[?25hRequirement already satisfied: gast>=0.2.0 in /usr/local/lib/python3.6/dist-packages (from tensorflow-gpu==2.0.0-rc0) (0.2.2)\n",
            "Requirement already satisfied: wrapt>=1.11.1 in /usr/local/lib/python3.6/dist-packages (from tensorflow-gpu==2.0.0-rc0) (1.11.2)\n",
            "Collecting tf-estimator-nightly<1.14.0.dev2019080602,>=1.14.0.dev2019080601\n",
            "\u001b[?25l  Downloading https://files.pythonhosted.org/packages/21/28/f2a27a62943d5f041e4a6fd404b2d21cb7c59b2242a4e73b03d9ba166552/tf_estimator_nightly-1.14.0.dev2019080601-py2.py3-none-any.whl (501kB)\n",
            "\u001b[K     |████████████████████████████████| 501kB 52.6MB/s \n",
            "\u001b[?25hRequirement already satisfied: protobuf>=3.6.1 in /usr/local/lib/python3.6/dist-packages (from tensorflow-gpu==2.0.0-rc0) (3.10.0)\n",
            "Requirement already satisfied: termcolor>=1.1.0 in /usr/local/lib/python3.6/dist-packages (from tensorflow-gpu==2.0.0-rc0) (1.1.0)\n",
            "Requirement already satisfied: grpcio>=1.8.6 in /usr/local/lib/python3.6/dist-packages (from tensorflow-gpu==2.0.0-rc0) (1.15.0)\n",
            "Requirement already satisfied: wheel>=0.26 in /usr/local/lib/python3.6/dist-packages (from tensorflow-gpu==2.0.0-rc0) (0.33.6)\n",
            "Requirement already satisfied: six>=1.10.0 in /usr/local/lib/python3.6/dist-packages (from tensorflow-gpu==2.0.0-rc0) (1.12.0)\n",
            "Requirement already satisfied: numpy<2.0,>=1.16.0 in /usr/local/lib/python3.6/dist-packages (from tensorflow-gpu==2.0.0-rc0) (1.17.4)\n",
            "Requirement already satisfied: opt-einsum>=2.3.2 in /usr/local/lib/python3.6/dist-packages (from tensorflow-gpu==2.0.0-rc0) (3.1.0)\n",
            "Requirement already satisfied: keras-applications>=1.0.8 in /usr/local/lib/python3.6/dist-packages (from tensorflow-gpu==2.0.0-rc0) (1.0.8)\n",
            "Collecting tb-nightly<1.15.0a20190807,>=1.15.0a20190806\n",
            "\u001b[?25l  Downloading https://files.pythonhosted.org/packages/bc/88/24b5fb7280e74c7cf65bde47c171547fd02afb3840cff41bcbe9270650f5/tb_nightly-1.15.0a20190806-py3-none-any.whl (4.3MB)\n",
            "\u001b[K     |████████████████████████████████| 4.3MB 37.5MB/s \n",
            "\u001b[?25hRequirement already satisfied: absl-py>=0.7.0 in /usr/local/lib/python3.6/dist-packages (from tensorflow-gpu==2.0.0-rc0) (0.8.1)\n",
            "Requirement already satisfied: keras-preprocessing>=1.0.5 in /usr/local/lib/python3.6/dist-packages (from tensorflow-gpu==2.0.0-rc0) (1.1.0)\n",
            "Requirement already satisfied: google-pasta>=0.1.6 in /usr/local/lib/python3.6/dist-packages (from tensorflow-gpu==2.0.0-rc0) (0.1.8)\n",
            "Requirement already satisfied: astor>=0.6.0 in /usr/local/lib/python3.6/dist-packages (from tensorflow-gpu==2.0.0-rc0) (0.8.1)\n",
            "Requirement already satisfied: setuptools in /usr/local/lib/python3.6/dist-packages (from protobuf>=3.6.1->tensorflow-gpu==2.0.0-rc0) (42.0.2)\n",
            "Requirement already satisfied: h5py in /usr/local/lib/python3.6/dist-packages (from keras-applications>=1.0.8->tensorflow-gpu==2.0.0-rc0) (2.8.0)\n",
            "Requirement already satisfied: markdown>=2.6.8 in /usr/local/lib/python3.6/dist-packages (from tb-nightly<1.15.0a20190807,>=1.15.0a20190806->tensorflow-gpu==2.0.0-rc0) (3.1.1)\n",
            "Requirement already satisfied: werkzeug>=0.11.15 in /usr/local/lib/python3.6/dist-packages (from tb-nightly<1.15.0a20190807,>=1.15.0a20190806->tensorflow-gpu==2.0.0-rc0) (0.16.0)\n",
            "Installing collected packages: tf-estimator-nightly, tb-nightly, tensorflow-gpu\n",
            "Successfully installed tb-nightly-1.15.0a20190806 tensorflow-gpu-2.0.0rc0 tf-estimator-nightly-1.14.0.dev2019080601\n"
          ],
          "name": "stdout"
        }
      ]
    },
    {
      "cell_type": "code",
      "metadata": {
        "id": "7K1YiuzxpgbW",
        "colab_type": "code",
        "colab": {}
      },
      "source": [
        "import tensorflow as tf\n",
        "from tensorflow import keras\n",
        "from tensorflow.keras import Sequential\n",
        "from tensorflow.keras.layers import Flatten, Dense, Conv2D, MaxPool2D, BatchNormalization, Dropout, ZeroPadding2D\n",
        "from tensorflow.keras.preprocessing.image import ImageDataGenerator\n",
        "\n",
        "from tensorflow.keras.optimizers import SGD"
      ],
      "execution_count": 0,
      "outputs": []
    },
    {
      "cell_type": "code",
      "metadata": {
        "id": "mnzpbr11p0Aa",
        "colab_type": "code",
        "outputId": "04a1e43a-6206-4908-f0b7-287c8b6bfa58",
        "colab": {
          "base_uri": "https://localhost:8080/",
          "height": 34
        }
      },
      "source": [
        "print(tf.__version__)"
      ],
      "execution_count": 0,
      "outputs": [
        {
          "output_type": "stream",
          "text": [
            "2.0.0-rc0\n"
          ],
          "name": "stdout"
        }
      ]
    },
    {
      "cell_type": "code",
      "metadata": {
        "id": "eZVVKK9PqTUC",
        "colab_type": "code",
        "colab": {}
      },
      "source": [
        "import pandas as pd\n",
        "import numpy as np\n",
        "import matplotlib.pyplot as plt\n",
        "%matplotlib inline"
      ],
      "execution_count": 0,
      "outputs": []
    },
    {
      "cell_type": "code",
      "metadata": {
        "id": "dmnFUwJ0qeoU",
        "colab_type": "code",
        "outputId": "b2f6e2bf-8638-4b53-8c9c-befacf615dd2",
        "colab": {
          "base_uri": "https://localhost:8080/",
          "height": 153
        }
      },
      "source": [
        "!git clone https://github.com/dipak104/Dogs-and-Cats-Prediction.git"
      ],
      "execution_count": 1,
      "outputs": [
        {
          "output_type": "stream",
          "text": [
            "Cloning into 'Dogs-and-Cats-Prediction'...\n",
            "remote: Enumerating objects: 25013, done.\u001b[K\n",
            "remote: Counting objects:   0% (1/25013)\u001b[K\rremote: Counting objects:   1% (251/25013)\u001b[K\rremote: Counting objects:   2% (501/25013)\u001b[K\rremote: Counting objects:   3% (751/25013)\u001b[K\rremote: Counting objects:   4% (1001/25013)\u001b[K\rremote: Counting objects:   5% (1251/25013)\u001b[K\rremote: Counting objects:   6% (1501/25013)\u001b[K\rremote: Counting objects:   7% (1751/25013)\u001b[K\rremote: Counting objects:   8% (2002/25013)\u001b[K\rremote: Counting objects:   9% (2252/25013)\u001b[K\rremote: Counting objects:  10% (2502/25013)\u001b[K\rremote: Counting objects:  11% (2752/25013)\u001b[K\rremote: Counting objects:  12% (3002/25013)\u001b[K\rremote: Counting objects:  13% (3252/25013)\u001b[K\rremote: Counting objects:  14% (3502/25013)\u001b[K\rremote: Counting objects:  15% (3752/25013)\u001b[K\rremote: Counting objects:  16% (4003/25013)\u001b[K\rremote: Counting objects:  17% (4253/25013)\u001b[K\rremote: Counting objects:  18% (4503/25013)\u001b[K\rremote: Counting objects:  19% (4753/25013)\u001b[K\rremote: Counting objects:  20% (5003/25013)\u001b[K\rremote: Counting objects:  21% (5253/25013)\u001b[K\rremote: Counting objects:  22% (5503/25013)\u001b[K\rremote: Counting objects:  23% (5753/25013)\u001b[K\rremote: Counting objects:  24% (6004/25013)\u001b[K\rremote: Counting objects:  25% (6254/25013)\u001b[K\rremote: Counting objects:  26% (6504/25013)\u001b[K\rremote: Counting objects:  27% (6754/25013)\u001b[K\rremote: Counting objects:  28% (7004/25013)\u001b[K\rremote: Counting objects:  29% (7254/25013)\u001b[K\rremote: Counting objects:  30% (7504/25013)\u001b[K\rremote: Counting objects:  31% (7755/25013)\u001b[K\rremote: Counting objects:  32% (8005/25013)\u001b[K\rremote: Counting objects:  33% (8255/25013)\u001b[K\rremote: Counting objects:  34% (8505/25013)\u001b[K\rremote: Counting objects:  35% (8755/25013)\u001b[K\rremote: Counting objects:  36% (9005/25013)\u001b[K\rremote: Counting objects:  37% (9255/25013)\u001b[K\rremote: Counting objects:  38% (9505/25013)\u001b[K\rremote: Counting objects:  39% (9756/25013)\u001b[K\rremote: Counting objects:  40% (10006/25013)\u001b[K\rremote: Counting objects:  41% (10256/25013)\u001b[K\rremote: Counting objects:  42% (10506/25013)\u001b[K\rremote: Counting objects:  43% (10756/25013)\u001b[K\rremote: Counting objects:  44% (11006/25013)\u001b[K\rremote: Counting objects:  45% (11256/25013)\u001b[K\rremote: Counting objects:  46% (11506/25013)\u001b[K\rremote: Counting objects:  47% (11757/25013)\u001b[K\rremote: Counting objects:  48% (12007/25013)\u001b[K\rremote: Counting objects:  49% (12257/25013)\u001b[K\rremote: Counting objects:  50% (12507/25013)\u001b[K\rremote: Counting objects:  51% (12757/25013)\u001b[K\rremote: Counting objects:  52% (13007/25013)\u001b[K\rremote: Counting objects:  53% (13257/25013)\u001b[K\rremote: Counting objects:  54% (13508/25013)\u001b[K\rremote: Counting objects:  55% (13758/25013)\u001b[K\rremote: Counting objects:  56% (14008/25013)\u001b[K\rremote: Counting objects:  57% (14258/25013)\u001b[K\rremote: Counting objects:  58% (14508/25013)\u001b[K\rremote: Counting objects:  59% (14758/25013)\u001b[K\rremote: Counting objects:  60% (15008/25013)\u001b[K\rremote: Counting objects:  61% (15258/25013)\u001b[K\rremote: Counting objects:  62% (15509/25013)\u001b[K\rremote: Counting objects:  63% (15759/25013)\u001b[K\rremote: Counting objects:  64% (16009/25013)\u001b[K\rremote: Counting objects:  65% (16259/25013)\u001b[K\rremote: Counting objects:  66% (16509/25013)\u001b[K\rremote: Counting objects:  67% (16759/25013)\u001b[K\rremote: Counting objects:  68% (17009/25013)\u001b[K\rremote: Counting objects:  69% (17259/25013)\u001b[K\rremote: Counting objects:  70% (17510/25013)\u001b[K\rremote: Counting objects:  71% (17760/25013)\u001b[K\rremote: Counting objects:  72% (18010/25013)\u001b[K\rremote: Counting objects:  73% (18260/25013)\u001b[K\rremote: Counting objects:  74% (18510/25013)\u001b[K\rremote: Counting objects:  75% (18760/25013)\u001b[K\rremote: Counting objects:  76% (19010/25013)\u001b[K\rremote: Counting objects:  77% (19261/25013)\u001b[K\rremote: Counting objects:  78% (19511/25013)\u001b[K\rremote: Counting objects:  79% (19761/25013)\u001b[K\rremote: Counting objects:  80% (20011/25013)\u001b[K\rremote: Counting objects:  81% (20261/25013)\u001b[K\rremote: Counting objects:  82% (20511/25013)\u001b[K\rremote: Counting objects:  83% (20761/25013)\u001b[K\rremote: Counting objects:  84% (21011/25013)\u001b[K\rremote: Counting objects:  85% (21262/25013)\u001b[K\rremote: Counting objects:  86% (21512/25013)\u001b[K\rremote: Counting objects:  87% (21762/25013)\u001b[K\rremote: Counting objects:  88% (22012/25013)\u001b[K\rremote: Counting objects:  89% (22262/25013)\u001b[K\rremote: Counting objects:  90% (22512/25013)\u001b[K\rremote: Counting objects:  91% (22762/25013)\u001b[K\rremote: Counting objects:  92% (23012/25013)\u001b[K\rremote: Counting objects:  93% (23263/25013)\u001b[K\rremote: Counting objects:  94% (23513/25013)\u001b[K\rremote: Counting objects:  95% (23763/25013)\u001b[K\rremote: Counting objects:  96% (24013/25013)\u001b[K\rremote: Counting objects:  97% (24263/25013)\u001b[K\rremote: Counting objects:  98% (24513/25013)\u001b[K\rremote: Counting objects:  99% (24763/25013)\u001b[K\rremote: Counting objects: 100% (25013/25013)\u001b[K\rremote: Counting objects: 100% (25013/25013), done.\u001b[K\n",
            "remote: Compressing objects: 100% (25007/25007), done.\u001b[K\n",
            "remote: Total 25013 (delta 1), reused 25003 (delta 1), pack-reused 0\n",
            "Receiving objects: 100% (25013/25013), 541.49 MiB | 43.44 MiB/s, done.\n",
            "Resolving deltas: 100% (1/1), done.\n",
            "Checking out files: 100% (25001/25001), done.\n"
          ],
          "name": "stdout"
        }
      ]
    },
    {
      "cell_type": "code",
      "metadata": {
        "id": "dsdstGawsBVU",
        "colab_type": "code",
        "colab": {}
      },
      "source": [
        "test_data_dir = '/content/Dogs-and-Cats-Prediction/data/test'\n",
        "train_data_dir = '/content/Dogs-and-Cats-Prediction/data/train'"
      ],
      "execution_count": 0,
      "outputs": []
    },
    {
      "cell_type": "code",
      "metadata": {
        "id": "iHhdmb6FtBte",
        "colab_type": "code",
        "colab": {}
      },
      "source": [
        "img_width = 32\n",
        "img_height = 32\n",
        "batch_size = 20"
      ],
      "execution_count": 0,
      "outputs": []
    },
    {
      "cell_type": "code",
      "metadata": {
        "id": "2o_CmtrEtMO1",
        "colab_type": "code",
        "colab": {}
      },
      "source": [
        "datagen = ImageDataGenerator(rescale=1./255)"
      ],
      "execution_count": 0,
      "outputs": []
    },
    {
      "cell_type": "code",
      "metadata": {
        "id": "yPVuzfzHtxcu",
        "colab_type": "code",
        "outputId": "f7064d34-586b-41e4-abc8-1f7118ed7e5f",
        "colab": {
          "base_uri": "https://localhost:8080/",
          "height": 34
        }
      },
      "source": [
        "train_generator = datagen.flow_from_directory(directory = train_data_dir, target_size=(img_width, img_height),\n",
        "                                              classes=['dogs','cats'], class_mode='binary', batch_size=batch_size)"
      ],
      "execution_count": 0,
      "outputs": [
        {
          "output_type": "stream",
          "text": [
            "Found 20000 images belonging to 2 classes.\n"
          ],
          "name": "stdout"
        }
      ]
    },
    {
      "cell_type": "code",
      "metadata": {
        "id": "gVqFwALout0D",
        "colab_type": "code",
        "outputId": "4fe19b47-c615-487e-99d9-fc96154cce13",
        "colab": {
          "base_uri": "https://localhost:8080/",
          "height": 34
        }
      },
      "source": [
        "train_generator.classes"
      ],
      "execution_count": 0,
      "outputs": [
        {
          "output_type": "execute_result",
          "data": {
            "text/plain": [
              "array([0, 0, 0, ..., 1, 1, 1], dtype=int32)"
            ]
          },
          "metadata": {
            "tags": []
          },
          "execution_count": 10
        }
      ]
    },
    {
      "cell_type": "code",
      "metadata": {
        "id": "m9_oPUcNu1ah",
        "colab_type": "code",
        "outputId": "120304b1-2d15-4906-8dd6-84061e36f78c",
        "colab": {
          "base_uri": "https://localhost:8080/",
          "height": 34
        }
      },
      "source": [
        "validation_generator = datagen.flow_from_directory(directory = test_data_dir, target_size=(32, 32),\n",
        "                                                   classes=['dogs','cats'], class_mode = 'binary',batch_size=batch_size)"
      ],
      "execution_count": 0,
      "outputs": [
        {
          "output_type": "stream",
          "text": [
            "Found 5000 images belonging to 2 classes.\n"
          ],
          "name": "stdout"
        }
      ]
    },
    {
      "cell_type": "code",
      "metadata": {
        "id": "59zPxJMSubuj",
        "colab_type": "code",
        "outputId": "2ce967de-99f8-4704-b333-c34b3e0ad684",
        "colab": {
          "base_uri": "https://localhost:8080/",
          "height": 34
        }
      },
      "source": [
        "len(train_generator)"
      ],
      "execution_count": 0,
      "outputs": [
        {
          "output_type": "execute_result",
          "data": {
            "text/plain": [
              "1000"
            ]
          },
          "metadata": {
            "tags": []
          },
          "execution_count": 12
        }
      ]
    },
    {
      "cell_type": "markdown",
      "metadata": {
        "id": "U9KUn72qwIKq",
        "colab_type": "text"
      },
      "source": [
        "## Build Base CNN Model"
      ]
    },
    {
      "cell_type": "code",
      "metadata": {
        "id": "VILJ-8PUwKyb",
        "colab_type": "code",
        "colab": {}
      },
      "source": [
        "model = Sequential()\n",
        "model.add(Conv2D(filters=64, kernel_size=(3, 3), activation='relu', padding='same', kernel_initializer='he_uniform', \n",
        "                 input_shape=(img_width, img_height,3)))\n",
        "model.add(MaxPool2D(2, 2))\n",
        "\n",
        "model.add(Flatten())\n",
        "model.add(Dense(units = 128, activation='relu', kernel_initializer='he_uniform'))\n",
        "model.add(Dense(units=1, activation='sigmoid'))"
      ],
      "execution_count": 0,
      "outputs": []
    },
    {
      "cell_type": "code",
      "metadata": {
        "id": "KypxTD6sx7Kp",
        "colab_type": "code",
        "colab": {}
      },
      "source": [
        "opt = SGD(learning_rate=0.01, momentum=0.9)\n",
        "model.compile(optimizer=opt, loss='binary_crossentropy', metrics=['accuracy'])"
      ],
      "execution_count": 0,
      "outputs": []
    },
    {
      "cell_type": "code",
      "metadata": {
        "id": "IY6W0DHnyh8p",
        "colab_type": "code",
        "outputId": "1e863d9f-61bb-4423-95f9-c4c66f2439fd",
        "colab": {
          "base_uri": "https://localhost:8080/",
          "height": 258
        }
      },
      "source": [
        "history = model.fit_generator(generator=train_generator, steps_per_epoch=len(train_generator),\n",
        "                              epochs=5, validation_data=validation_generator, \n",
        "                              validation_steps=len(validation_generator), verbose=1)"
      ],
      "execution_count": 0,
      "outputs": [
        {
          "output_type": "stream",
          "text": [
            "Epoch 1/5\n",
            "WARNING:tensorflow:From /usr/local/lib/python3.6/dist-packages/tensorflow_core/python/ops/math_grad.py:1394: where (from tensorflow.python.ops.array_ops) is deprecated and will be removed in a future version.\n",
            "Instructions for updating:\n",
            "Use tf.where in 2.0, which has the same broadcast rule as np.where\n",
            "1000/1000 [==============================] - 118s 118ms/step - loss: 0.6963 - accuracy: 0.4976 - val_loss: 0.6933 - val_accuracy: 0.5000\n",
            "Epoch 2/5\n",
            "1000/1000 [==============================] - 116s 116ms/step - loss: 0.6811 - accuracy: 0.5565 - val_loss: 0.6446 - val_accuracy: 0.6488\n",
            "Epoch 3/5\n",
            "1000/1000 [==============================] - 116s 116ms/step - loss: 0.6152 - accuracy: 0.6647 - val_loss: 0.5759 - val_accuracy: 0.7030\n",
            "Epoch 4/5\n",
            "1000/1000 [==============================] - 116s 116ms/step - loss: 0.5470 - accuracy: 0.7232 - val_loss: 0.5547 - val_accuracy: 0.7130\n",
            "Epoch 5/5\n",
            "1000/1000 [==============================] - 116s 116ms/step - loss: 0.5000 - accuracy: 0.7507 - val_loss: 0.5344 - val_accuracy: 0.7422\n"
          ],
          "name": "stdout"
        }
      ]
    },
    {
      "cell_type": "code",
      "metadata": {
        "id": "c3t5iy2hzTZc",
        "colab_type": "code",
        "outputId": "d264e506-4ae3-4812-d69d-3f09c4141054",
        "colab": {
          "base_uri": "https://localhost:8080/",
          "height": 221
        }
      },
      "source": [
        "history.history"
      ],
      "execution_count": 0,
      "outputs": [
        {
          "output_type": "execute_result",
          "data": {
            "text/plain": [
              "{'accuracy': [0.49755, 0.55645, 0.6647, 0.7232, 0.7507],\n",
              " 'loss': [0.6963447017669677,\n",
              "  0.6810539991259575,\n",
              "  0.6151697179079055,\n",
              "  0.5470464890301228,\n",
              "  0.5000359057635069],\n",
              " 'val_accuracy': [0.5, 0.6488, 0.703, 0.713, 0.7422],\n",
              " 'val_loss': [0.6933430030345916,\n",
              "  0.6446333705186844,\n",
              "  0.575937077999115,\n",
              "  0.554717219889164,\n",
              "  0.5343706179857254]}"
            ]
          },
          "metadata": {
            "tags": []
          },
          "execution_count": 16
        }
      ]
    },
    {
      "cell_type": "code",
      "metadata": {
        "id": "l395heR_7b32",
        "colab_type": "code",
        "colab": {}
      },
      "source": [
        "def plot_learningCurve(history):\n",
        "  # Plot training & validation accuracy values\n",
        "  epoch_range = range(1, 6)\n",
        "  plt.plot(epoch_range, history.history['accuracy'])\n",
        "  plt.plot(epoch_range, history.history['val_accuracy'])\n",
        "  plt.title('Model accuracy')\n",
        "  plt.ylabel('Accuracy')\n",
        "  plt.xlabel('Epoch')\n",
        "  plt.legend(['Train', 'Val'], loc='upper left')\n",
        "  plt.show()\n",
        "\n",
        "  # Plot training & validation loss values\n",
        "  plt.plot(epoch_range, history.history['loss'])\n",
        "  plt.plot(epoch_range, history.history['val_loss'])\n",
        "  plt.title('Model loss')\n",
        "  plt.ylabel('Loss')\n",
        "  plt.xlabel('Epoch')\n",
        "  plt.legend(['Train', 'Val'], loc='upper left')\n",
        "  plt.show()"
      ],
      "execution_count": 0,
      "outputs": []
    },
    {
      "cell_type": "code",
      "metadata": {
        "id": "ryoQ2hPB7dAr",
        "colab_type": "code",
        "outputId": "3526c338-102a-4470-ba25-676de0840147",
        "colab": {
          "base_uri": "https://localhost:8080/",
          "height": 573
        }
      },
      "source": [
        "plot_learningCurve(history)"
      ],
      "execution_count": 0,
      "outputs": [
        {
          "output_type": "display_data",
          "data": {
            "image/png": "[encoded data removed]",
            "text/plain": [
              "<Figure size 432x288 with 1 Axes>"
            ]
          },
          "metadata": {
            "tags": []
          }
        },
        {
          "output_type": "display_data",
          "data": {
            "image/png": "[encoded data removed]",
            "text/plain": [
              "<Figure size 432x288 with 1 Axes>"
            ]
          },
          "metadata": {
            "tags": []
          }
        }
      ]
    },
    {
      "cell_type": "markdown",
      "metadata": {
        "id": "pCl7-Kzn7okS",
        "colab_type": "text"
      },
      "source": [
        "## Impliment First 3 Blocks of VGG16 Model"
      ]
    },
    {
      "cell_type": "code",
      "metadata": {
        "id": "ZhrON0Pc7py4",
        "colab_type": "code",
        "colab": {}
      },
      "source": [
        "model = Sequential()\n",
        "model.add(Conv2D(filters=64, kernel_size=(3, 3), activation='relu', padding='same', kernel_initializer='he_uniform', \n",
        "                 input_shape=(img_width, img_height,3)))\n",
        "model.add(MaxPool2D(2, 2))\n",
        "\n",
        "model = Sequential()\n",
        "model.add(Conv2D(filters=128, kernel_size=(3, 3), activation='relu', padding='same', kernel_initializer='he_uniform'))\n",
        "model.add(MaxPool2D(2, 2))\n",
        "\n",
        "model = Sequential()\n",
        "model.add(Conv2D(filters=256, kernel_size=(3, 3), activation='relu', padding='same', kernel_initializer='he_uniform'))\n",
        "model.add(MaxPool2D(2, 2))\n",
        "\n",
        "model = Sequential()\n",
        "model.add(Conv2D(filters=512, kernel_size=(3, 3), activation='relu', padding='same', kernel_initializer='he_uniform'))\n",
        "model.add(MaxPool2D(2, 2))\n",
        "\n",
        "model.add(Flatten())\n",
        "model.add(Dense(units = 128, activation='relu', kernel_initializer='he_uniform'))\n",
        "model.add(Dense(units=1, activation='sigmoid'))"
      ],
      "execution_count": 0,
      "outputs": []
    },
    {
      "cell_type": "code",
      "metadata": {
        "id": "7W6TSP12avWL",
        "colab_type": "code",
        "colab": {}
      },
      "source": [
        "opt = SGD(learning_rate=0.01, momentum=0.9)\n",
        "model.compile(optimizer=opt, loss='binary_crossentropy', metrics=['accuracy'])"
      ],
      "execution_count": 0,
      "outputs": []
    },
    {
      "cell_type": "code",
      "metadata": {
        "id": "rXBk4-9favqd",
        "colab_type": "code",
        "outputId": "af007ef6-5f5d-431d-8192-5f9353376fc3",
        "colab": {
          "base_uri": "https://localhost:8080/",
          "height": 187
        }
      },
      "source": [
        "history = model.fit_generator(generator=train_generator, steps_per_epoch=len(train_generator),\n",
        "                              epochs=5, validation_data=validation_generator, \n",
        "                              validation_steps=len(validation_generator), verbose=1)"
      ],
      "execution_count": 0,
      "outputs": [
        {
          "output_type": "stream",
          "text": [
            "Epoch 1/5\n",
            "1000/1000 [==============================] - 360s 360ms/step - loss: 7.7078 - accuracy: 0.5028 - val_loss: 7.7125 - val_accuracy: 0.5000\n",
            "Epoch 2/5\n",
            "1000/1000 [==============================] - 356s 356ms/step - loss: 7.7125 - accuracy: 0.4973 - val_loss: 7.7125 - val_accuracy: 0.5000\n",
            "Epoch 3/5\n",
            "1000/1000 [==============================] - 356s 356ms/step - loss: 7.7125 - accuracy: 0.5011 - val_loss: 7.7125 - val_accuracy: 0.5000\n",
            "Epoch 4/5\n",
            "1000/1000 [==============================] - 357s 357ms/step - loss: 7.7125 - accuracy: 0.4908 - val_loss: 7.7125 - val_accuracy: 0.5000\n",
            "Epoch 5/5\n",
            "1000/1000 [==============================] - 357s 357ms/step - loss: 7.7125 - accuracy: 0.4986 - val_loss: 7.7125 - val_accuracy: 0.5000\n"
          ],
          "name": "stdout"
        }
      ]
    },
    {
      "cell_type": "markdown",
      "metadata": {
        "id": "vdPEbAXA5lCE",
        "colab_type": "text"
      },
      "source": [
        "### Batch Normalization and Drouput"
      ]
    },
    {
      "cell_type": "code",
      "metadata": {
        "id": "kQpr_qOgav_j",
        "colab_type": "code",
        "colab": {}
      },
      "source": [
        "model = Sequential()\n",
        "model.add(Conv2D(filters=64, kernel_size=(3, 3), activation='relu', padding='same', kernel_initializer='he_uniform', \n",
        "                 input_shape=(img_width, img_height,3)))\n",
        "model.add(BatchNormalization())\n",
        "model.add(MaxPool2D(2, 2))\n",
        "model.add(Dropout(0.2))\n",
        "\n",
        "model = Sequential()\n",
        "model.add(Conv2D(filters=128, kernel_size=(3, 3), activation='relu', padding='same', kernel_initializer='he_uniform'))\n",
        "model.add(BatchNormalization())\n",
        "model.add(MaxPool2D(2, 2))\n",
        "model.add(Dropout(0.3))\n",
        "\n",
        "model = Sequential()\n",
        "model.add(Conv2D(filters=256, kernel_size=(3, 3), activation='relu', padding='same', kernel_initializer='he_uniform'))\n",
        "model.add(BatchNormalization())\n",
        "model.add(MaxPool2D(2, 2))\n",
        "model.add(Dropout(0.5))\n",
        "\n",
        "model.add(Flatten())\n",
        "model.add(Dense(units = 128, activation='relu', kernel_initializer='he_uniform'))\n",
        "model.add(BatchNormalization())\n",
        "model.add(Dropout(0.5))\n",
        "\n",
        "model.add(Dense(units=1, activation='sigmoid'))"
      ],
      "execution_count": 0,
      "outputs": []
    },
    {
      "cell_type": "code",
      "metadata": {
        "id": "3xFJVN_Cawbz",
        "colab_type": "code",
        "colab": {}
      },
      "source": [
        "opt = SGD(learning_rate=0.01, momentum=0.9)\n",
        "model.compile(optimizer=opt, loss='binary_crossentropy', metrics=['accuracy'])"
      ],
      "execution_count": 0,
      "outputs": []
    },
    {
      "cell_type": "code",
      "metadata": {
        "id": "Z3_S5qlz5vcL",
        "colab_type": "code",
        "outputId": "2412d889-d105-49a4-a3e1-cb75a9c1ef86",
        "colab": {
          "base_uri": "https://localhost:8080/",
          "height": 357
        }
      },
      "source": [
        "history = model.fit_generator(generator=train_generator, steps_per_epoch=len(train_generator),\n",
        "                              epochs=10, validation_data=validation_generator, \n",
        "                              validation_steps=len(validation_generator), verbose=1)"
      ],
      "execution_count": 0,
      "outputs": [
        {
          "output_type": "stream",
          "text": [
            "Epoch 1/10\n",
            "1000/1000 [==============================] - 368s 368ms/step - loss: 0.6692 - accuracy: 0.6360 - val_loss: 0.6280 - val_accuracy: 0.6730\n",
            "Epoch 2/10\n",
            "1000/1000 [==============================] - 366s 366ms/step - loss: 0.5935 - accuracy: 0.6967 - val_loss: 0.5415 - val_accuracy: 0.7378\n",
            "Epoch 3/10\n",
            "1000/1000 [==============================] - 367s 367ms/step - loss: 0.5553 - accuracy: 0.7214 - val_loss: 0.5392 - val_accuracy: 0.7348\n",
            "Epoch 4/10\n",
            "1000/1000 [==============================] - 366s 366ms/step - loss: 0.5360 - accuracy: 0.7358 - val_loss: 0.5304 - val_accuracy: 0.7462\n",
            "Epoch 5/10\n",
            "1000/1000 [==============================] - 363s 363ms/step - loss: 0.5232 - accuracy: 0.7477 - val_loss: 0.5176 - val_accuracy: 0.7548\n",
            "Epoch 6/10\n",
            "1000/1000 [==============================] - 361s 361ms/step - loss: 0.4966 - accuracy: 0.7617 - val_loss: 0.5065 - val_accuracy: 0.7640\n",
            "Epoch 7/10\n",
            "1000/1000 [==============================] - 359s 359ms/step - loss: 0.4816 - accuracy: 0.7740 - val_loss: 0.5000 - val_accuracy: 0.7586\n",
            "Epoch 8/10\n",
            "1000/1000 [==============================] - 360s 360ms/step - loss: 0.4679 - accuracy: 0.7796 - val_loss: 0.5629 - val_accuracy: 0.7228\n",
            "Epoch 9/10\n",
            "1000/1000 [==============================] - 360s 360ms/step - loss: 0.4584 - accuracy: 0.7850 - val_loss: 0.4914 - val_accuracy: 0.7658\n",
            "Epoch 10/10\n",
            "1000/1000 [==============================] - 360s 360ms/step - loss: 0.4482 - accuracy: 0.7895 - val_loss: 0.5223 - val_accuracy: 0.7482\n"
          ],
          "name": "stdout"
        }
      ]
    },
    {
      "cell_type": "code",
      "metadata": {
        "id": "MgmzMSEX6NZ7",
        "colab_type": "code",
        "colab": {}
      },
      "source": [
        "def plot_learningCurve(history, epoch):\n",
        "  # Plot training & validation accuracy values\n",
        "  epoch_range = range(1, epoch+1)\n",
        "  plt.plot(epoch_range, history.history['accuracy'])\n",
        "  plt.plot(epoch_range, history.history['val_accuracy'])\n",
        "  plt.title('Model accuracy')\n",
        "  plt.ylabel('Accuracy')\n",
        "  plt.xlabel('Epoch')\n",
        "  plt.legend(['Train', 'Val'], loc='upper left')\n",
        "  plt.show()\n",
        "\n",
        "  # Plot training & validation loss values\n",
        "  plt.plot(epoch_range, history.history['loss'])\n",
        "  plt.plot(epoch_range, history.history['val_loss'])\n",
        "  plt.title('Model loss')\n",
        "  plt.ylabel('Loss')\n",
        "  plt.xlabel('Epoch')\n",
        "  plt.legend(['Train', 'Val'], loc='upper left')\n",
        "  plt.show()"
      ],
      "execution_count": 0,
      "outputs": []
    },
    {
      "cell_type": "code",
      "metadata": {
        "id": "lbnIQ9rv95-T",
        "colab_type": "code",
        "outputId": "dae7339c-491f-4da0-a1fc-0c5b1bed2b17",
        "colab": {
          "base_uri": "https://localhost:8080/",
          "height": 573
        }
      },
      "source": [
        "plot_learningCurve(history, 10)"
      ],
      "execution_count": 0,
      "outputs": [
        {
          "output_type": "display_data",
          "data": {
            "image/png": "[encoded data removed]",
            "text/plain": [
              "<Figure size 432x288 with 1 Axes>"
            ]
          },
          "metadata": {
            "tags": []
          }
        },
        {
          "output_type": "display_data",
          "data": {
            "image/png": "[encoded data removed]",
            "text/plain": [
              "<Figure size 432x288 with 1 Axes>"
            ]
          },
          "metadata": {
            "tags": []
          }
        }
      ]
    },
    {
      "cell_type": "code",
      "metadata": {
        "id": "x3O20WLe-BHG",
        "colab_type": "code",
        "colab": {}
      },
      "source": [
        ""
      ],
      "execution_count": 0,
      "outputs": []
    }
  ]
}