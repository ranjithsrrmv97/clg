{
 "cells": [
  {
   "cell_type": "markdown",
   "metadata": {},
   "source": [
    "# --------------------------Analysis Part -1------------------------------------"
   ]
  },
  {
   "cell_type": "code",
   "execution_count": 68,
   "metadata": {},
   "outputs": [],
   "source": [
    "%matplotlib inline"
   ]
  },
  {
   "cell_type": "code",
   "execution_count": 69,
   "metadata": {},
   "outputs": [],
   "source": [
    "import pandas as pd\n",
    "import numpy as np\n",
    "import seaborn as sns\n",
    "import matplotlib.pyplot as plt"
   ]
  },
  {
   "cell_type": "markdown",
   "metadata": {},
   "source": [
    "# Reading Files"
   ]
  },
  {
   "cell_type": "code",
   "execution_count": 70,
   "metadata": {},
   "outputs": [
    {
     "name": "stdout",
     "output_type": "stream",
     "text": [
      "<class 'pandas.core.frame.DataFrame'>\n",
      "RangeIndex: 39717 entries, 0 to 39716\n",
      "Columns: 111 entries, id to total_il_high_credit_limit\n",
      "dtypes: float64(74), int64(13), object(24)\n",
      "memory usage: 33.6+ MB\n",
      "None\n"
     ]
    },
    {
     "name": "stderr",
     "output_type": "stream",
     "text": [
      "E:\\Anaconda\\lib\\site-packages\\IPython\\core\\interactiveshell.py:2785: DtypeWarning: Columns (47) have mixed types. Specify dtype option on import or set low_memory=False.\n",
      "  interactivity=interactivity, compiler=compiler, result=result)\n"
     ]
    }
   ],
   "source": [
    "lending=pd.read_csv(\"./group assignment/loan.csv\",encoding = 'unicode_escape')\n",
    "print(lending.info())"
   ]
  },
  {
   "cell_type": "markdown",
   "metadata": {},
   "source": [
    "# Checking Duplicate values"
   ]
  },
  {
   "cell_type": "code",
   "execution_count": 71,
   "metadata": {},
   "outputs": [
    {
     "name": "stdout",
     "output_type": "stream",
     "text": [
      "<class 'pandas.core.frame.DataFrame'>\n",
      "Int64Index: 39717 entries, 0 to 39716\n",
      "Columns: 111 entries, id to total_il_high_credit_limit\n",
      "dtypes: float64(74), int64(13), object(24)\n",
      "memory usage: 33.9+ MB\n",
      "None\n"
     ]
    }
   ],
   "source": [
    "lending=lending.drop_duplicates(keep='first', inplace=False)\n",
    "print(lending.info())"
   ]
  },
  {
   "cell_type": "markdown",
   "metadata": {},
   "source": [
    "# Removing more than 30 % (only one column) + 50% Rest missing values column"
   ]
  },
  {
   "cell_type": "code",
   "execution_count": 72,
   "metadata": {},
   "outputs": [
    {
     "name": "stdout",
     "output_type": "stream",
     "text": [
      "id                                0.000000\n",
      "member_id                         0.000000\n",
      "loan_amnt                         0.000000\n",
      "funded_amnt                       0.000000\n",
      "funded_amnt_inv                   0.000000\n",
      "term                              0.000000\n",
      "int_rate                          0.000000\n",
      "installment                       0.000000\n",
      "grade                             0.000000\n",
      "sub_grade                         0.000000\n",
      "emp_title                         0.061913\n",
      "emp_length                        0.027066\n",
      "home_ownership                    0.000000\n",
      "annual_inc                        0.000000\n",
      "verification_status               0.000000\n",
      "issue_d                           0.000000\n",
      "loan_status                       0.000000\n",
      "pymnt_plan                        0.000000\n",
      "url                               0.000000\n",
      "desc                              0.325805\n",
      "purpose                           0.000000\n",
      "title                             0.000277\n",
      "zip_code                          0.000000\n",
      "addr_state                        0.000000\n",
      "dti                               0.000000\n",
      "delinq_2yrs                       0.000000\n",
      "earliest_cr_line                  0.000000\n",
      "inq_last_6mths                    0.000000\n",
      "mths_since_last_delinq            0.646625\n",
      "mths_since_last_record            0.929854\n",
      "                                    ...   \n",
      "mo_sin_old_rev_tl_op              1.000000\n",
      "mo_sin_rcnt_rev_tl_op             1.000000\n",
      "mo_sin_rcnt_tl                    1.000000\n",
      "mort_acc                          1.000000\n",
      "mths_since_recent_bc              1.000000\n",
      "mths_since_recent_bc_dlq          1.000000\n",
      "mths_since_recent_inq             1.000000\n",
      "mths_since_recent_revol_delinq    1.000000\n",
      "num_accts_ever_120_pd             1.000000\n",
      "num_actv_bc_tl                    1.000000\n",
      "num_actv_rev_tl                   1.000000\n",
      "num_bc_sats                       1.000000\n",
      "num_bc_tl                         1.000000\n",
      "num_il_tl                         1.000000\n",
      "num_op_rev_tl                     1.000000\n",
      "num_rev_accts                     1.000000\n",
      "num_rev_tl_bal_gt_0               1.000000\n",
      "num_sats                          1.000000\n",
      "num_tl_120dpd_2m                  1.000000\n",
      "num_tl_30dpd                      1.000000\n",
      "num_tl_90g_dpd_24m                1.000000\n",
      "num_tl_op_past_12m                1.000000\n",
      "pct_tl_nvr_dlq                    1.000000\n",
      "percent_bc_gt_75                  1.000000\n",
      "pub_rec_bankruptcies              0.017549\n",
      "tax_liens                         0.000982\n",
      "tot_hi_cred_lim                   1.000000\n",
      "total_bal_ex_mort                 1.000000\n",
      "total_bc_limit                    1.000000\n",
      "total_il_high_credit_limit        1.000000\n",
      "Length: 111, dtype: float64\n",
      "id                            0.000000\n",
      "member_id                     0.000000\n",
      "loan_amnt                     0.000000\n",
      "funded_amnt                   0.000000\n",
      "funded_amnt_inv               0.000000\n",
      "term                          0.000000\n",
      "int_rate                      0.000000\n",
      "installment                   0.000000\n",
      "grade                         0.000000\n",
      "sub_grade                     0.000000\n",
      "emp_title                     0.061913\n",
      "emp_length                    0.027066\n",
      "home_ownership                0.000000\n",
      "annual_inc                    0.000000\n",
      "verification_status           0.000000\n",
      "issue_d                       0.000000\n",
      "loan_status                   0.000000\n",
      "pymnt_plan                    0.000000\n",
      "url                           0.000000\n",
      "purpose                       0.000000\n",
      "title                         0.000277\n",
      "zip_code                      0.000000\n",
      "addr_state                    0.000000\n",
      "dti                           0.000000\n",
      "delinq_2yrs                   0.000000\n",
      "earliest_cr_line              0.000000\n",
      "inq_last_6mths                0.000000\n",
      "open_acc                      0.000000\n",
      "pub_rec                       0.000000\n",
      "revol_bal                     0.000000\n",
      "revol_util                    0.001259\n",
      "total_acc                     0.000000\n",
      "initial_list_status           0.000000\n",
      "out_prncp                     0.000000\n",
      "out_prncp_inv                 0.000000\n",
      "total_pymnt                   0.000000\n",
      "total_pymnt_inv               0.000000\n",
      "total_rec_prncp               0.000000\n",
      "total_rec_int                 0.000000\n",
      "total_rec_late_fee            0.000000\n",
      "recoveries                    0.000000\n",
      "collection_recovery_fee       0.000000\n",
      "last_pymnt_d                  0.001788\n",
      "last_pymnt_amnt               0.000000\n",
      "last_credit_pull_d            0.000050\n",
      "collections_12_mths_ex_med    0.001410\n",
      "policy_code                   0.000000\n",
      "application_type              0.000000\n",
      "acc_now_delinq                0.000000\n",
      "chargeoff_within_12_mths      0.001410\n",
      "delinq_amnt                   0.000000\n",
      "pub_rec_bankruptcies          0.017549\n",
      "tax_liens                     0.000982\n",
      "dtype: float64\n"
     ]
    }
   ],
   "source": [
    "print(lending.isna().sum()/len(lending.index))\n",
    "limitPer = len(lending) * .70\n",
    "lending_clean = lending.dropna(thresh=limitPer,axis=1)\n",
    "print(lending_clean.isna().sum()/len(lending.index))"
   ]
  },
  {
   "cell_type": "markdown",
   "metadata": {},
   "source": [
    "# Removing Rows having Missing values"
   ]
  },
  {
   "cell_type": "code",
   "execution_count": 73,
   "metadata": {},
   "outputs": [
    {
     "name": "stdout",
     "output_type": "stream",
     "text": [
      "<class 'pandas.core.frame.DataFrame'>\n",
      "RangeIndex: 36431 entries, 0 to 36430\n",
      "Data columns (total 53 columns):\n",
      "id                            36431 non-null int64\n",
      "member_id                     36431 non-null int64\n",
      "loan_amnt                     36431 non-null int64\n",
      "funded_amnt                   36431 non-null int64\n",
      "funded_amnt_inv               36431 non-null float64\n",
      "term                          36431 non-null object\n",
      "int_rate                      36431 non-null object\n",
      "installment                   36431 non-null float64\n",
      "grade                         36431 non-null object\n",
      "sub_grade                     36431 non-null object\n",
      "emp_title                     36431 non-null object\n",
      "emp_length                    36431 non-null object\n",
      "home_ownership                36431 non-null object\n",
      "annual_inc                    36431 non-null float64\n",
      "verification_status           36431 non-null object\n",
      "issue_d                       36431 non-null object\n",
      "loan_status                   36431 non-null object\n",
      "pymnt_plan                    36431 non-null object\n",
      "url                           36431 non-null object\n",
      "purpose                       36431 non-null object\n",
      "title                         36431 non-null object\n",
      "zip_code                      36431 non-null object\n",
      "addr_state                    36431 non-null object\n",
      "dti                           36431 non-null float64\n",
      "delinq_2yrs                   36431 non-null int64\n",
      "earliest_cr_line              36431 non-null object\n",
      "inq_last_6mths                36431 non-null int64\n",
      "open_acc                      36431 non-null int64\n",
      "pub_rec                       36431 non-null int64\n",
      "revol_bal                     36431 non-null int64\n",
      "revol_util                    36431 non-null object\n",
      "total_acc                     36431 non-null int64\n",
      "initial_list_status           36431 non-null object\n",
      "out_prncp                     36431 non-null float64\n",
      "out_prncp_inv                 36431 non-null float64\n",
      "total_pymnt                   36431 non-null float64\n",
      "total_pymnt_inv               36431 non-null float64\n",
      "total_rec_prncp               36431 non-null float64\n",
      "total_rec_int                 36431 non-null float64\n",
      "total_rec_late_fee            36431 non-null float64\n",
      "recoveries                    36431 non-null float64\n",
      "collection_recovery_fee       36431 non-null float64\n",
      "last_pymnt_d                  36431 non-null object\n",
      "last_pymnt_amnt               36431 non-null float64\n",
      "last_credit_pull_d            36431 non-null object\n",
      "collections_12_mths_ex_med    36431 non-null float64\n",
      "policy_code                   36431 non-null int64\n",
      "application_type              36431 non-null object\n",
      "acc_now_delinq                36431 non-null int64\n",
      "chargeoff_within_12_mths      36431 non-null float64\n",
      "delinq_amnt                   36431 non-null int64\n",
      "pub_rec_bankruptcies          36431 non-null float64\n",
      "tax_liens                     36431 non-null float64\n",
      "dtypes: float64(18), int64(13), object(22)\n",
      "memory usage: 14.7+ MB\n",
      "None\n",
      "id                            0.0\n",
      "member_id                     0.0\n",
      "loan_amnt                     0.0\n",
      "funded_amnt                   0.0\n",
      "funded_amnt_inv               0.0\n",
      "term                          0.0\n",
      "int_rate                      0.0\n",
      "installment                   0.0\n",
      "grade                         0.0\n",
      "sub_grade                     0.0\n",
      "emp_title                     0.0\n",
      "emp_length                    0.0\n",
      "home_ownership                0.0\n",
      "annual_inc                    0.0\n",
      "verification_status           0.0\n",
      "issue_d                       0.0\n",
      "loan_status                   0.0\n",
      "pymnt_plan                    0.0\n",
      "url                           0.0\n",
      "purpose                       0.0\n",
      "title                         0.0\n",
      "zip_code                      0.0\n",
      "addr_state                    0.0\n",
      "dti                           0.0\n",
      "delinq_2yrs                   0.0\n",
      "earliest_cr_line              0.0\n",
      "inq_last_6mths                0.0\n",
      "open_acc                      0.0\n",
      "pub_rec                       0.0\n",
      "revol_bal                     0.0\n",
      "revol_util                    0.0\n",
      "total_acc                     0.0\n",
      "initial_list_status           0.0\n",
      "out_prncp                     0.0\n",
      "out_prncp_inv                 0.0\n",
      "total_pymnt                   0.0\n",
      "total_pymnt_inv               0.0\n",
      "total_rec_prncp               0.0\n",
      "total_rec_int                 0.0\n",
      "total_rec_late_fee            0.0\n",
      "recoveries                    0.0\n",
      "collection_recovery_fee       0.0\n",
      "last_pymnt_d                  0.0\n",
      "last_pymnt_amnt               0.0\n",
      "last_credit_pull_d            0.0\n",
      "collections_12_mths_ex_med    0.0\n",
      "policy_code                   0.0\n",
      "application_type              0.0\n",
      "acc_now_delinq                0.0\n",
      "chargeoff_within_12_mths      0.0\n",
      "delinq_amnt                   0.0\n",
      "pub_rec_bankruptcies          0.0\n",
      "tax_liens                     0.0\n",
      "dtype: float64\n"
     ]
    }
   ],
   "source": [
    "lending_clean = lending_clean.dropna(axis=0)\n",
    "lending_clean=lending_clean.reset_index(drop=True)\n",
    "print(lending_clean.info())\n",
    "print(lending_clean.isna().sum()/len(lending.index))"
   ]
  },
  {
   "cell_type": "code",
   "execution_count": 74,
   "metadata": {},
   "outputs": [
    {
     "name": "stdout",
     "output_type": "stream",
     "text": [
      "        id  member_id  loan_amnt  funded_amnt  funded_amnt_inv        term  \\\n",
      "0  1077430    1314167       2500         2500           2500.0   60 months   \n",
      "1  1076863    1277178      10000        10000          10000.0   36 months   \n",
      "2  1075358    1311748       3000         3000           3000.0   60 months   \n",
      "3  1075269    1311441       5000         5000           5000.0   36 months   \n",
      "4  1069639    1304742       7000         7000           7000.0   60 months   \n",
      "\n",
      "  int_rate  installment grade sub_grade    ...    last_pymnt_amnt  \\\n",
      "0   15.27%        59.83     C        C4    ...             119.66   \n",
      "1   13.49%       339.31     C        C1    ...             357.48   \n",
      "2   12.69%        67.79     B        B5    ...              67.79   \n",
      "3    7.90%       156.46     A        A4    ...             161.03   \n",
      "4   15.96%       170.08     C        C5    ...            1313.76   \n",
      "\n",
      "  last_credit_pull_d collections_12_mths_ex_med  policy_code application_type  \\\n",
      "0             Sep-13                        0.0            1       INDIVIDUAL   \n",
      "1             Apr-16                        0.0            1       INDIVIDUAL   \n",
      "2             May-16                        0.0            1       INDIVIDUAL   \n",
      "3             Jan-16                        0.0            1       INDIVIDUAL   \n",
      "4             May-16                        0.0            1       INDIVIDUAL   \n",
      "\n",
      "  acc_now_delinq chargeoff_within_12_mths delinq_amnt pub_rec_bankruptcies  \\\n",
      "0              0                      0.0           0                  0.0   \n",
      "1              0                      0.0           0                  0.0   \n",
      "2              0                      0.0           0                  0.0   \n",
      "3              0                      0.0           0                  0.0   \n",
      "4              0                      0.0           0                  0.0   \n",
      "\n",
      "  tax_liens  \n",
      "0       0.0  \n",
      "1       0.0  \n",
      "2       0.0  \n",
      "3       0.0  \n",
      "4       0.0  \n",
      "\n",
      "[5 rows x 53 columns]\n",
      "53\n"
     ]
    }
   ],
   "source": [
    "print(lending_clean.head())\n",
    "print(len(lending_clean.columns))"
   ]
  },
  {
   "cell_type": "code",
   "execution_count": 75,
   "metadata": {},
   "outputs": [
    {
     "name": "stdout",
     "output_type": "stream",
     "text": [
      "50\n"
     ]
    }
   ],
   "source": [
    "lending_clean1=lending_clean.drop(['id','member_id','url'],axis=1)\n",
    "print(len(lending_clean1.columns))"
   ]
  },
  {
   "cell_type": "markdown",
   "metadata": {},
   "source": [
    "# Dropping columns where we have only 1 unique value"
   ]
  },
  {
   "cell_type": "code",
   "execution_count": 76,
   "metadata": {},
   "outputs": [
    {
     "name": "stdout",
     "output_type": "stream",
     "text": [
      "41\n",
      "Index(['loan_amnt', 'funded_amnt', 'funded_amnt_inv', 'term', 'int_rate',\n",
      "       'installment', 'grade', 'sub_grade', 'emp_title', 'emp_length',\n",
      "       'home_ownership', 'annual_inc', 'verification_status', 'issue_d',\n",
      "       'loan_status', 'purpose', 'title', 'zip_code', 'addr_state', 'dti',\n",
      "       'delinq_2yrs', 'earliest_cr_line', 'inq_last_6mths', 'open_acc',\n",
      "       'pub_rec', 'revol_bal', 'revol_util', 'total_acc', 'out_prncp',\n",
      "       'out_prncp_inv', 'total_pymnt', 'total_pymnt_inv', 'total_rec_prncp',\n",
      "       'total_rec_int', 'total_rec_late_fee', 'recoveries',\n",
      "       'collection_recovery_fee', 'last_pymnt_d', 'last_pymnt_amnt',\n",
      "       'last_credit_pull_d', 'pub_rec_bankruptcies'],\n",
      "      dtype='object')\n"
     ]
    }
   ],
   "source": [
    "lending_clean2=lending_clean1.drop(lending_clean1.columns[lending_clean1.apply(lambda col: col.nunique()==1)], axis=1)\n",
    "print(len(lending_clean2.columns))\n",
    "print(lending_clean2.columns)"
   ]
  },
  {
   "cell_type": "markdown",
   "metadata": {},
   "source": [
    "# Removing % Character from Numbers + Dropping title columns"
   ]
  },
  {
   "cell_type": "code",
   "execution_count": 77,
   "metadata": {},
   "outputs": [
    {
     "name": "stdout",
     "output_type": "stream",
     "text": [
      "<class 'pandas.core.frame.DataFrame'>\n",
      "RangeIndex: 36431 entries, 0 to 36430\n",
      "Data columns (total 39 columns):\n",
      "loan_amnt                  36431 non-null int64\n",
      "funded_amnt                36431 non-null int64\n",
      "funded_amnt_inv            36431 non-null float64\n",
      "term                       36431 non-null object\n",
      "int_rate                   36431 non-null float64\n",
      "installment                36431 non-null float64\n",
      "grade                      36431 non-null object\n",
      "sub_grade                  36431 non-null object\n",
      "emp_length                 36431 non-null object\n",
      "home_ownership             36431 non-null object\n",
      "annual_inc                 36431 non-null float64\n",
      "verification_status        36431 non-null object\n",
      "issue_d                    36431 non-null object\n",
      "loan_status                36431 non-null object\n",
      "purpose                    36431 non-null object\n",
      "zip_code                   36431 non-null object\n",
      "addr_state                 36431 non-null object\n",
      "dti                        36431 non-null float64\n",
      "delinq_2yrs                36431 non-null int64\n",
      "earliest_cr_line           36431 non-null object\n",
      "inq_last_6mths             36431 non-null int64\n",
      "open_acc                   36431 non-null int64\n",
      "pub_rec                    36431 non-null int64\n",
      "revol_bal                  36431 non-null int64\n",
      "revol_util                 36431 non-null float64\n",
      "total_acc                  36431 non-null int64\n",
      "out_prncp                  36431 non-null float64\n",
      "out_prncp_inv              36431 non-null float64\n",
      "total_pymnt                36431 non-null float64\n",
      "total_pymnt_inv            36431 non-null float64\n",
      "total_rec_prncp            36431 non-null float64\n",
      "total_rec_int              36431 non-null float64\n",
      "total_rec_late_fee         36431 non-null float64\n",
      "recoveries                 36431 non-null float64\n",
      "collection_recovery_fee    36431 non-null float64\n",
      "last_pymnt_d               36431 non-null object\n",
      "last_pymnt_amnt            36431 non-null float64\n",
      "last_credit_pull_d         36431 non-null object\n",
      "pub_rec_bankruptcies       36431 non-null float64\n",
      "dtypes: float64(17), int64(8), object(14)\n",
      "memory usage: 10.8+ MB\n",
      "None\n"
     ]
    }
   ],
   "source": [
    "from datetime import datetime\n",
    "lending_clean2['int_rate']=lending_clean2.int_rate.apply(lambda x: float( x.strip('%')))\n",
    "lending_clean2['revol_util']=lending_clean2.revol_util.apply(lambda x: float(x.strip('%')))\n",
    "lending_clean2=lending_clean2.drop([\"emp_title\",\"title\"],axis=1)\n",
    "print(lending_clean2.info())"
   ]
  },
  {
   "cell_type": "markdown",
   "metadata": {},
   "source": [
    "# ------------------------Analysis Part - 2---------------------------------"
   ]
  },
  {
   "cell_type": "markdown",
   "metadata": {},
   "source": [
    "# Univariate Analysis for Continuous Variable + creating of derived variable (Business + Data + Order)"
   ]
  },
  {
   "cell_type": "code",
   "execution_count": 78,
   "metadata": {},
   "outputs": [
    {
     "name": "stderr",
     "output_type": "stream",
     "text": [
      "E:\\Anaconda\\lib\\site-packages\\ipykernel_launcher.py:3: DeprecationWarning: \n",
      ".ix is deprecated. Please use\n",
      ".loc for label based indexing or\n",
      ".iloc for positional indexing\n",
      "\n",
      "See the documentation here:\n",
      "http://pandas.pydata.org/pandas-docs/stable/indexing.html#ix-indexer-is-deprecated\n",
      "  This is separate from the ipykernel package so we can avoid doing imports until\n"
     ]
    },
    {
     "data": {
      "text/html": [
       "<div>\n",
       "<style scoped>\n",
       "    .dataframe tbody tr th:only-of-type {\n",
       "        vertical-align: middle;\n",
       "    }\n",
       "\n",
       "    .dataframe tbody tr th {\n",
       "        vertical-align: top;\n",
       "    }\n",
       "\n",
       "    .dataframe thead th {\n",
       "        text-align: right;\n",
       "    }\n",
       "</style>\n",
       "<table border=\"1\" class=\"dataframe\">\n",
       "  <thead>\n",
       "    <tr style=\"text-align: right;\">\n",
       "      <th></th>\n",
       "      <th>loan_amnt</th>\n",
       "      <th>funded_amnt</th>\n",
       "      <th>funded_amnt_inv</th>\n",
       "      <th>int_rate</th>\n",
       "      <th>installment</th>\n",
       "    </tr>\n",
       "  </thead>\n",
       "  <tbody>\n",
       "    <tr>\n",
       "      <th>count</th>\n",
       "      <td>36431.000000</td>\n",
       "      <td>36431.000000</td>\n",
       "      <td>36431.000000</td>\n",
       "      <td>36431.000000</td>\n",
       "      <td>36431.000000</td>\n",
       "    </tr>\n",
       "    <tr>\n",
       "      <th>mean</th>\n",
       "      <td>11307.794186</td>\n",
       "      <td>11032.933491</td>\n",
       "      <td>10601.876895</td>\n",
       "      <td>12.073891</td>\n",
       "      <td>326.187642</td>\n",
       "    </tr>\n",
       "    <tr>\n",
       "      <th>std</th>\n",
       "      <td>7433.904309</td>\n",
       "      <td>7166.520054</td>\n",
       "      <td>7072.645601</td>\n",
       "      <td>3.734857</td>\n",
       "      <td>207.390058</td>\n",
       "    </tr>\n",
       "    <tr>\n",
       "      <th>min</th>\n",
       "      <td>500.000000</td>\n",
       "      <td>500.000000</td>\n",
       "      <td>0.000000</td>\n",
       "      <td>5.420000</td>\n",
       "      <td>16.080000</td>\n",
       "    </tr>\n",
       "    <tr>\n",
       "      <th>25%</th>\n",
       "      <td>5600.000000</td>\n",
       "      <td>5500.000000</td>\n",
       "      <td>5000.000000</td>\n",
       "      <td>9.320000</td>\n",
       "      <td>168.900000</td>\n",
       "    </tr>\n",
       "    <tr>\n",
       "      <th>50%</th>\n",
       "      <td>10000.000000</td>\n",
       "      <td>10000.000000</td>\n",
       "      <td>9203.371902</td>\n",
       "      <td>11.860000</td>\n",
       "      <td>283.280000</td>\n",
       "    </tr>\n",
       "    <tr>\n",
       "      <th>75%</th>\n",
       "      <td>15000.000000</td>\n",
       "      <td>15000.000000</td>\n",
       "      <td>14508.774540</td>\n",
       "      <td>14.650000</td>\n",
       "      <td>432.220000</td>\n",
       "    </tr>\n",
       "    <tr>\n",
       "      <th>max</th>\n",
       "      <td>35000.000000</td>\n",
       "      <td>35000.000000</td>\n",
       "      <td>35000.000000</td>\n",
       "      <td>24.400000</td>\n",
       "      <td>1305.190000</td>\n",
       "    </tr>\n",
       "  </tbody>\n",
       "</table>\n",
       "</div>"
      ],
      "text/plain": [
       "          loan_amnt   funded_amnt  funded_amnt_inv      int_rate   installment\n",
       "count  36431.000000  36431.000000     36431.000000  36431.000000  36431.000000\n",
       "mean   11307.794186  11032.933491     10601.876895     12.073891    326.187642\n",
       "std     7433.904309   7166.520054      7072.645601      3.734857    207.390058\n",
       "min      500.000000    500.000000         0.000000      5.420000     16.080000\n",
       "25%     5600.000000   5500.000000      5000.000000      9.320000    168.900000\n",
       "50%    10000.000000  10000.000000      9203.371902     11.860000    283.280000\n",
       "75%    15000.000000  15000.000000     14508.774540     14.650000    432.220000\n",
       "max    35000.000000  35000.000000     35000.000000     24.400000   1305.190000"
      ]
     },
     "execution_count": 78,
     "metadata": {},
     "output_type": "execute_result"
    }
   ],
   "source": [
    "# First 5 Continius variable\n",
    "lend=lending_clean2.describe()\n",
    "lending_clean2.describe().ix[:,0:5]"
   ]
  },
  {
   "cell_type": "code",
   "execution_count": 79,
   "metadata": {},
   "outputs": [
    {
     "data": {
      "image/png": "[encoded data removed]",
      "text/plain": [
       "<Figure size 1080x360 with 5 Axes>"
      ]
     },
     "metadata": {},
     "output_type": "display_data"
    }
   ],
   "source": [
    "import seaborn as sns\n",
    "plt.figure(figsize=(15,5))\n",
    "for i in range(0,5):\n",
    "    plt.subplot(1, 5, i+1)\n",
    "    plt.xticks(rotation=90)\n",
    "    sns.distplot(lending_clean2[lend.columns[i]])\n"
   ]
  },
  {
   "cell_type": "code",
   "execution_count": 80,
   "metadata": {},
   "outputs": [
    {
     "data": {
      "image/png": "[encoded data removed]",
      "text/plain": [
       "<Figure size 1080x360 with 5 Axes>"
      ]
     },
     "metadata": {},
     "output_type": "display_data"
    }
   ],
   "source": [
    "import seaborn as sns\n",
    "plt.figure(figsize=(15,5))\n",
    "\n",
    "for i in range(0,5):\n",
    "    plt.subplot(1, 5, i+1)\n",
    "    plt.xticks(rotation=90)\n",
    "    sns.boxplot(lending_clean2[lend.columns[i]])\n",
    "      "
   ]
  },
  {
   "cell_type": "code",
   "execution_count": 81,
   "metadata": {},
   "outputs": [
    {
     "name": "stderr",
     "output_type": "stream",
     "text": [
      "E:\\Anaconda\\lib\\site-packages\\ipykernel_launcher.py:2: DeprecationWarning: \n",
      ".ix is deprecated. Please use\n",
      ".loc for label based indexing or\n",
      ".iloc for positional indexing\n",
      "\n",
      "See the documentation here:\n",
      "http://pandas.pydata.org/pandas-docs/stable/indexing.html#ix-indexer-is-deprecated\n",
      "  \n"
     ]
    },
    {
     "data": {
      "text/html": [
       "<div>\n",
       "<style scoped>\n",
       "    .dataframe tbody tr th:only-of-type {\n",
       "        vertical-align: middle;\n",
       "    }\n",
       "\n",
       "    .dataframe tbody tr th {\n",
       "        vertical-align: top;\n",
       "    }\n",
       "\n",
       "    .dataframe thead th {\n",
       "        text-align: right;\n",
       "    }\n",
       "</style>\n",
       "<table border=\"1\" class=\"dataframe\">\n",
       "  <thead>\n",
       "    <tr style=\"text-align: right;\">\n",
       "      <th></th>\n",
       "      <th>annual_inc</th>\n",
       "      <th>dti</th>\n",
       "      <th>delinq_2yrs</th>\n",
       "      <th>inq_last_6mths</th>\n",
       "      <th>open_acc</th>\n",
       "    </tr>\n",
       "  </thead>\n",
       "  <tbody>\n",
       "    <tr>\n",
       "      <th>count</th>\n",
       "      <td>3.643100e+04</td>\n",
       "      <td>36431.000000</td>\n",
       "      <td>36431.000000</td>\n",
       "      <td>36431.000000</td>\n",
       "      <td>36431.000000</td>\n",
       "    </tr>\n",
       "    <tr>\n",
       "      <th>mean</th>\n",
       "      <td>6.930694e+04</td>\n",
       "      <td>13.444293</td>\n",
       "      <td>0.146139</td>\n",
       "      <td>0.864840</td>\n",
       "      <td>9.351679</td>\n",
       "    </tr>\n",
       "    <tr>\n",
       "      <th>std</th>\n",
       "      <td>6.354376e+04</td>\n",
       "      <td>6.643417</td>\n",
       "      <td>0.492211</td>\n",
       "      <td>1.063383</td>\n",
       "      <td>4.373724</td>\n",
       "    </tr>\n",
       "    <tr>\n",
       "      <th>min</th>\n",
       "      <td>4.000000e+03</td>\n",
       "      <td>0.000000</td>\n",
       "      <td>0.000000</td>\n",
       "      <td>0.000000</td>\n",
       "      <td>2.000000</td>\n",
       "    </tr>\n",
       "    <tr>\n",
       "      <th>25%</th>\n",
       "      <td>4.200000e+04</td>\n",
       "      <td>8.360000</td>\n",
       "      <td>0.000000</td>\n",
       "      <td>0.000000</td>\n",
       "      <td>6.000000</td>\n",
       "    </tr>\n",
       "    <tr>\n",
       "      <th>50%</th>\n",
       "      <td>6.000000e+04</td>\n",
       "      <td>13.540000</td>\n",
       "      <td>0.000000</td>\n",
       "      <td>1.000000</td>\n",
       "      <td>9.000000</td>\n",
       "    </tr>\n",
       "    <tr>\n",
       "      <th>75%</th>\n",
       "      <td>8.300000e+04</td>\n",
       "      <td>18.690000</td>\n",
       "      <td>0.000000</td>\n",
       "      <td>1.000000</td>\n",
       "      <td>12.000000</td>\n",
       "    </tr>\n",
       "    <tr>\n",
       "      <th>max</th>\n",
       "      <td>6.000000e+06</td>\n",
       "      <td>29.990000</td>\n",
       "      <td>11.000000</td>\n",
       "      <td>8.000000</td>\n",
       "      <td>44.000000</td>\n",
       "    </tr>\n",
       "  </tbody>\n",
       "</table>\n",
       "</div>"
      ],
      "text/plain": [
       "         annual_inc           dti   delinq_2yrs  inq_last_6mths      open_acc\n",
       "count  3.643100e+04  36431.000000  36431.000000    36431.000000  36431.000000\n",
       "mean   6.930694e+04     13.444293      0.146139        0.864840      9.351679\n",
       "std    6.354376e+04      6.643417      0.492211        1.063383      4.373724\n",
       "min    4.000000e+03      0.000000      0.000000        0.000000      2.000000\n",
       "25%    4.200000e+04      8.360000      0.000000        0.000000      6.000000\n",
       "50%    6.000000e+04     13.540000      0.000000        1.000000      9.000000\n",
       "75%    8.300000e+04     18.690000      0.000000        1.000000     12.000000\n",
       "max    6.000000e+06     29.990000     11.000000        8.000000     44.000000"
      ]
     },
     "execution_count": 81,
     "metadata": {},
     "output_type": "execute_result"
    }
   ],
   "source": [
    "# Next 5 Continious variables\n",
    "lending_clean2.describe().ix[:,5:10]"
   ]
  },
  {
   "cell_type": "code",
   "execution_count": 82,
   "metadata": {},
   "outputs": [
    {
     "data": {
      "image/png": "[encoded data removed]",
      "text/plain": [
       "<Figure size 1080x360 with 5 Axes>"
      ]
     },
     "metadata": {},
     "output_type": "display_data"
    }
   ],
   "source": [
    "plt.figure(figsize=(15,5))\n",
    "for i in range(5,10):\n",
    "    plt.subplot(1, 5, i-4)\n",
    "    plt.xticks(rotation=90)\n",
    "    sns.distplot(lending_clean2[lend.columns[i]])"
   ]
  },
  {
   "cell_type": "code",
   "execution_count": 83,
   "metadata": {},
   "outputs": [
    {
     "data": {
      "image/png": "[encoded data removed]",
      "text/plain": [
       "<Figure size 1080x360 with 5 Axes>"
      ]
     },
     "metadata": {},
     "output_type": "display_data"
    }
   ],
   "source": [
    "plt.figure(figsize=(15,5))\n",
    "for i in range(5,10):\n",
    "    plt.subplot(1, 5, i-4)\n",
    "    plt.xticks(rotation=90)\n",
    "    sns.boxplot(lending_clean2[lend.columns[i]])"
   ]
  },
  {
   "cell_type": "code",
   "execution_count": 84,
   "metadata": {},
   "outputs": [],
   "source": [
    "# For better understanding creating new variable based on Data Type of delinq_2yrs_flag i.e 0- No deliquency and 1- Deliquency\n",
    "lending_clean2['delinq_2yrs_flag']=lending_clean2['delinq_2yrs'].apply(lambda x: \"1\" if x >0 else \"0\")\n",
    "\n",
    "#As the distribution of Annual Income is highly skewed and uneven so converting to categorical.\n",
    "lending_clean2['annual_inc'].quantile([0.25,0.5,0.75])\n",
    "lending_clean2['annual_inc_flag']=lending_clean2['annual_inc'].apply(lambda x: \"0\" if x <= 42000  else (\"1\" if(x <= 83000 and x > 42000) else \"2\"))\n"
   ]
  },
  {
   "cell_type": "code",
   "execution_count": null,
   "metadata": {},
   "outputs": [],
   "source": []
  },
  {
   "cell_type": "code",
   "execution_count": 85,
   "metadata": {},
   "outputs": [
    {
     "name": "stderr",
     "output_type": "stream",
     "text": [
      "E:\\Anaconda\\lib\\site-packages\\ipykernel_launcher.py:2: DeprecationWarning: \n",
      ".ix is deprecated. Please use\n",
      ".loc for label based indexing or\n",
      ".iloc for positional indexing\n",
      "\n",
      "See the documentation here:\n",
      "http://pandas.pydata.org/pandas-docs/stable/indexing.html#ix-indexer-is-deprecated\n",
      "  \n"
     ]
    },
    {
     "data": {
      "text/html": [
       "<div>\n",
       "<style scoped>\n",
       "    .dataframe tbody tr th:only-of-type {\n",
       "        vertical-align: middle;\n",
       "    }\n",
       "\n",
       "    .dataframe tbody tr th {\n",
       "        vertical-align: top;\n",
       "    }\n",
       "\n",
       "    .dataframe thead th {\n",
       "        text-align: right;\n",
       "    }\n",
       "</style>\n",
       "<table border=\"1\" class=\"dataframe\">\n",
       "  <thead>\n",
       "    <tr style=\"text-align: right;\">\n",
       "      <th></th>\n",
       "      <th>pub_rec</th>\n",
       "      <th>revol_bal</th>\n",
       "      <th>revol_util</th>\n",
       "      <th>total_acc</th>\n",
       "      <th>out_prncp</th>\n",
       "    </tr>\n",
       "  </thead>\n",
       "  <tbody>\n",
       "    <tr>\n",
       "      <th>count</th>\n",
       "      <td>36431.000000</td>\n",
       "      <td>36431.000000</td>\n",
       "      <td>36431.000000</td>\n",
       "      <td>36431.000000</td>\n",
       "      <td>36431.000000</td>\n",
       "    </tr>\n",
       "    <tr>\n",
       "      <th>mean</th>\n",
       "      <td>0.053663</td>\n",
       "      <td>13466.188740</td>\n",
       "      <td>49.276069</td>\n",
       "      <td>22.246137</td>\n",
       "      <td>52.468572</td>\n",
       "    </tr>\n",
       "    <tr>\n",
       "      <th>std</th>\n",
       "      <td>0.234897</td>\n",
       "      <td>15702.347369</td>\n",
       "      <td>28.192248</td>\n",
       "      <td>11.376630</td>\n",
       "      <td>379.861072</td>\n",
       "    </tr>\n",
       "    <tr>\n",
       "      <th>min</th>\n",
       "      <td>0.000000</td>\n",
       "      <td>0.000000</td>\n",
       "      <td>0.000000</td>\n",
       "      <td>2.000000</td>\n",
       "      <td>0.000000</td>\n",
       "    </tr>\n",
       "    <tr>\n",
       "      <th>25%</th>\n",
       "      <td>0.000000</td>\n",
       "      <td>3832.000000</td>\n",
       "      <td>26.100000</td>\n",
       "      <td>14.000000</td>\n",
       "      <td>0.000000</td>\n",
       "    </tr>\n",
       "    <tr>\n",
       "      <th>50%</th>\n",
       "      <td>0.000000</td>\n",
       "      <td>9031.000000</td>\n",
       "      <td>49.900000</td>\n",
       "      <td>21.000000</td>\n",
       "      <td>0.000000</td>\n",
       "    </tr>\n",
       "    <tr>\n",
       "      <th>75%</th>\n",
       "      <td>0.000000</td>\n",
       "      <td>17231.500000</td>\n",
       "      <td>72.700000</td>\n",
       "      <td>29.000000</td>\n",
       "      <td>0.000000</td>\n",
       "    </tr>\n",
       "    <tr>\n",
       "      <th>max</th>\n",
       "      <td>4.000000</td>\n",
       "      <td>149588.000000</td>\n",
       "      <td>99.900000</td>\n",
       "      <td>90.000000</td>\n",
       "      <td>6311.470000</td>\n",
       "    </tr>\n",
       "  </tbody>\n",
       "</table>\n",
       "</div>"
      ],
      "text/plain": [
       "            pub_rec      revol_bal    revol_util     total_acc     out_prncp\n",
       "count  36431.000000   36431.000000  36431.000000  36431.000000  36431.000000\n",
       "mean       0.053663   13466.188740     49.276069     22.246137     52.468572\n",
       "std        0.234897   15702.347369     28.192248     11.376630    379.861072\n",
       "min        0.000000       0.000000      0.000000      2.000000      0.000000\n",
       "25%        0.000000    3832.000000     26.100000     14.000000      0.000000\n",
       "50%        0.000000    9031.000000     49.900000     21.000000      0.000000\n",
       "75%        0.000000   17231.500000     72.700000     29.000000      0.000000\n",
       "max        4.000000  149588.000000     99.900000     90.000000   6311.470000"
      ]
     },
     "execution_count": 85,
     "metadata": {},
     "output_type": "execute_result"
    }
   ],
   "source": [
    "# Next 5 Continuous variables\n",
    "lending_clean2.describe().ix[:,10:15]"
   ]
  },
  {
   "cell_type": "code",
   "execution_count": 86,
   "metadata": {},
   "outputs": [
    {
     "data": {
      "image/png": "[encoded data removed]",
      "text/plain": [
       "<Figure size 1080x360 with 5 Axes>"
      ]
     },
     "metadata": {},
     "output_type": "display_data"
    }
   ],
   "source": [
    "plt.figure(figsize=(15,5))\n",
    "for i in range(10,15):\n",
    "    plt.subplot(1, 5, i-9)\n",
    "    plt.xticks(rotation=90)\n",
    "    sns.distplot(lending_clean2[lend.columns[i]])"
   ]
  },
  {
   "cell_type": "code",
   "execution_count": 87,
   "metadata": {},
   "outputs": [
    {
     "data": {
      "image/png": "[encoded data removed]",
      "text/plain": [
       "<Figure size 1080x360 with 5 Axes>"
      ]
     },
     "metadata": {},
     "output_type": "display_data"
    }
   ],
   "source": [
    "plt.figure(figsize=(15,5))\n",
    "for i in range(10,15):\n",
    "    plt.subplot(1, 5, i-9)\n",
    "    plt.xticks(rotation=90)\n",
    "    sns.boxplot(lending_clean2[lend.columns[i]])"
   ]
  },
  {
   "cell_type": "code",
   "execution_count": 88,
   "metadata": {},
   "outputs": [],
   "source": [
    "# For better understanding creating new variable based on Data Type of pub_rec_flag i.e 0-Clean and 1- Risky\n",
    "lending_clean2['pub_rec_flag']=lending_clean2['pub_rec'].apply(lambda x: \"1\" if x >0 else \"0\")\n",
    "#For better understanding creating new variable based on Data Type of prncp i.e 0- No prinicipal outstanding and 1- yes\n",
    "lending_clean2['out_prncp_flag']=lending_clean2['out_prncp'].apply(lambda x: \"1\" if x >0 else \"0\")"
   ]
  },
  {
   "cell_type": "code",
   "execution_count": null,
   "metadata": {},
   "outputs": [],
   "source": []
  },
  {
   "cell_type": "code",
   "execution_count": 89,
   "metadata": {},
   "outputs": [
    {
     "name": "stderr",
     "output_type": "stream",
     "text": [
      "E:\\Anaconda\\lib\\site-packages\\ipykernel_launcher.py:2: DeprecationWarning: \n",
      ".ix is deprecated. Please use\n",
      ".loc for label based indexing or\n",
      ".iloc for positional indexing\n",
      "\n",
      "See the documentation here:\n",
      "http://pandas.pydata.org/pandas-docs/stable/indexing.html#ix-indexer-is-deprecated\n",
      "  \n"
     ]
    },
    {
     "data": {
      "text/html": [
       "<div>\n",
       "<style scoped>\n",
       "    .dataframe tbody tr th:only-of-type {\n",
       "        vertical-align: middle;\n",
       "    }\n",
       "\n",
       "    .dataframe tbody tr th {\n",
       "        vertical-align: top;\n",
       "    }\n",
       "\n",
       "    .dataframe thead th {\n",
       "        text-align: right;\n",
       "    }\n",
       "</style>\n",
       "<table border=\"1\" class=\"dataframe\">\n",
       "  <thead>\n",
       "    <tr style=\"text-align: right;\">\n",
       "      <th></th>\n",
       "      <th>out_prncp_inv</th>\n",
       "      <th>total_pymnt</th>\n",
       "      <th>total_pymnt_inv</th>\n",
       "      <th>total_rec_prncp</th>\n",
       "      <th>total_rec_int</th>\n",
       "    </tr>\n",
       "  </thead>\n",
       "  <tbody>\n",
       "    <tr>\n",
       "      <th>count</th>\n",
       "      <td>36431.000000</td>\n",
       "      <td>36431.000000</td>\n",
       "      <td>36431.000000</td>\n",
       "      <td>36431.000000</td>\n",
       "      <td>36431.000000</td>\n",
       "    </tr>\n",
       "    <tr>\n",
       "      <th>mean</th>\n",
       "      <td>52.216180</td>\n",
       "      <td>12311.226392</td>\n",
       "      <td>11841.691116</td>\n",
       "      <td>9912.631803</td>\n",
       "      <td>2304.442520</td>\n",
       "    </tr>\n",
       "    <tr>\n",
       "      <th>std</th>\n",
       "      <td>378.454016</td>\n",
       "      <td>9048.552965</td>\n",
       "      <td>8911.170172</td>\n",
       "      <td>7053.310578</td>\n",
       "      <td>2629.598904</td>\n",
       "    </tr>\n",
       "    <tr>\n",
       "      <th>min</th>\n",
       "      <td>0.000000</td>\n",
       "      <td>33.730000</td>\n",
       "      <td>0.000000</td>\n",
       "      <td>0.000000</td>\n",
       "      <td>6.220000</td>\n",
       "    </tr>\n",
       "    <tr>\n",
       "      <th>25%</th>\n",
       "      <td>0.000000</td>\n",
       "      <td>5672.634184</td>\n",
       "      <td>5413.880000</td>\n",
       "      <td>4800.000000</td>\n",
       "      <td>678.030000</td>\n",
       "    </tr>\n",
       "    <tr>\n",
       "      <th>50%</th>\n",
       "      <td>0.000000</td>\n",
       "      <td>10101.589360</td>\n",
       "      <td>9632.410000</td>\n",
       "      <td>8123.600000</td>\n",
       "      <td>1379.820000</td>\n",
       "    </tr>\n",
       "    <tr>\n",
       "      <th>75%</th>\n",
       "      <td>0.000000</td>\n",
       "      <td>16700.865405</td>\n",
       "      <td>16094.780000</td>\n",
       "      <td>14000.000000</td>\n",
       "      <td>2891.865000</td>\n",
       "    </tr>\n",
       "    <tr>\n",
       "      <th>max</th>\n",
       "      <td>6307.370000</td>\n",
       "      <td>58563.679930</td>\n",
       "      <td>58563.680000</td>\n",
       "      <td>35000.020000</td>\n",
       "      <td>23563.680000</td>\n",
       "    </tr>\n",
       "  </tbody>\n",
       "</table>\n",
       "</div>"
      ],
      "text/plain": [
       "       out_prncp_inv   total_pymnt  total_pymnt_inv  total_rec_prncp  \\\n",
       "count   36431.000000  36431.000000     36431.000000     36431.000000   \n",
       "mean       52.216180  12311.226392     11841.691116      9912.631803   \n",
       "std       378.454016   9048.552965      8911.170172      7053.310578   \n",
       "min         0.000000     33.730000         0.000000         0.000000   \n",
       "25%         0.000000   5672.634184      5413.880000      4800.000000   \n",
       "50%         0.000000  10101.589360      9632.410000      8123.600000   \n",
       "75%         0.000000  16700.865405     16094.780000     14000.000000   \n",
       "max      6307.370000  58563.679930     58563.680000     35000.020000   \n",
       "\n",
       "       total_rec_int  \n",
       "count   36431.000000  \n",
       "mean     2304.442520  \n",
       "std      2629.598904  \n",
       "min         6.220000  \n",
       "25%       678.030000  \n",
       "50%      1379.820000  \n",
       "75%      2891.865000  \n",
       "max     23563.680000  "
      ]
     },
     "execution_count": 89,
     "metadata": {},
     "output_type": "execute_result"
    }
   ],
   "source": [
    "# Next 5 continuous variables\n",
    "lending_clean2.describe().ix[:,15:20]"
   ]
  },
  {
   "cell_type": "code",
   "execution_count": 90,
   "metadata": {},
   "outputs": [
    {
     "data": {
      "image/png": "[encoded data removed]",
      "text/plain": [
       "<Figure size 1080x360 with 5 Axes>"
      ]
     },
     "metadata": {},
     "output_type": "display_data"
    }
   ],
   "source": [
    "plt.figure(figsize=(15,5))\n",
    "for i in range(15,20):\n",
    "    plt.subplot(1, 5, i-14)\n",
    "    plt.xticks(rotation=90)\n",
    "    sns.distplot(lending_clean2[lend.columns[i]])"
   ]
  },
  {
   "cell_type": "code",
   "execution_count": 91,
   "metadata": {},
   "outputs": [
    {
     "data": {
      "image/png": "[encoded data removed]",
      "text/plain": [
       "<Figure size 1080x360 with 5 Axes>"
      ]
     },
     "metadata": {},
     "output_type": "display_data"
    }
   ],
   "source": [
    "plt.figure(figsize=(15,5))\n",
    "for i in range(15,20):\n",
    "    plt.subplot(1, 5, i-14)\n",
    "    plt.xticks(rotation=90)\n",
    "    sns.boxplot(lending_clean2[lend.columns[i]])"
   ]
  },
  {
   "cell_type": "code",
   "execution_count": 92,
   "metadata": {},
   "outputs": [],
   "source": [
    "#For better understanding creating new variable based on Data Type of prncp_inv i.e 0- No prinicipal outstanding and 1- yes\n",
    "lending_clean2['out_prncp_inv_flag']=lending_clean2['out_prncp_inv'].apply(lambda x: \"1\" if x >0 else \"0\")"
   ]
  },
  {
   "cell_type": "code",
   "execution_count": null,
   "metadata": {},
   "outputs": [],
   "source": []
  },
  {
   "cell_type": "code",
   "execution_count": 93,
   "metadata": {},
   "outputs": [
    {
     "name": "stderr",
     "output_type": "stream",
     "text": [
      "E:\\Anaconda\\lib\\site-packages\\ipykernel_launcher.py:2: DeprecationWarning: \n",
      ".ix is deprecated. Please use\n",
      ".loc for label based indexing or\n",
      ".iloc for positional indexing\n",
      "\n",
      "See the documentation here:\n",
      "http://pandas.pydata.org/pandas-docs/stable/indexing.html#ix-indexer-is-deprecated\n",
      "  \n"
     ]
    },
    {
     "data": {
      "text/html": [
       "<div>\n",
       "<style scoped>\n",
       "    .dataframe tbody tr th:only-of-type {\n",
       "        vertical-align: middle;\n",
       "    }\n",
       "\n",
       "    .dataframe tbody tr th {\n",
       "        vertical-align: top;\n",
       "    }\n",
       "\n",
       "    .dataframe thead th {\n",
       "        text-align: right;\n",
       "    }\n",
       "</style>\n",
       "<table border=\"1\" class=\"dataframe\">\n",
       "  <thead>\n",
       "    <tr style=\"text-align: right;\">\n",
       "      <th></th>\n",
       "      <th>total_rec_late_fee</th>\n",
       "      <th>recoveries</th>\n",
       "      <th>collection_recovery_fee</th>\n",
       "      <th>last_pymnt_amnt</th>\n",
       "      <th>pub_rec_bankruptcies</th>\n",
       "    </tr>\n",
       "  </thead>\n",
       "  <tbody>\n",
       "    <tr>\n",
       "      <th>count</th>\n",
       "      <td>36431.000000</td>\n",
       "      <td>36431.000000</td>\n",
       "      <td>36431.000000</td>\n",
       "      <td>36431.000000</td>\n",
       "      <td>36431.000000</td>\n",
       "    </tr>\n",
       "    <tr>\n",
       "      <th>mean</th>\n",
       "      <td>1.299912</td>\n",
       "      <td>92.852238</td>\n",
       "      <td>11.677622</td>\n",
       "      <td>2743.075381</td>\n",
       "      <td>0.041366</td>\n",
       "    </tr>\n",
       "    <tr>\n",
       "      <th>std</th>\n",
       "      <td>7.065817</td>\n",
       "      <td>682.064837</td>\n",
       "      <td>140.884174</td>\n",
       "      <td>4473.621163</td>\n",
       "      <td>0.200100</td>\n",
       "    </tr>\n",
       "    <tr>\n",
       "      <th>min</th>\n",
       "      <td>0.000000</td>\n",
       "      <td>0.000000</td>\n",
       "      <td>0.000000</td>\n",
       "      <td>0.010000</td>\n",
       "      <td>0.000000</td>\n",
       "    </tr>\n",
       "    <tr>\n",
       "      <th>25%</th>\n",
       "      <td>0.000000</td>\n",
       "      <td>0.000000</td>\n",
       "      <td>0.000000</td>\n",
       "      <td>226.310000</td>\n",
       "      <td>0.000000</td>\n",
       "    </tr>\n",
       "    <tr>\n",
       "      <th>50%</th>\n",
       "      <td>0.000000</td>\n",
       "      <td>0.000000</td>\n",
       "      <td>0.000000</td>\n",
       "      <td>571.700000</td>\n",
       "      <td>0.000000</td>\n",
       "    </tr>\n",
       "    <tr>\n",
       "      <th>75%</th>\n",
       "      <td>0.000000</td>\n",
       "      <td>0.000000</td>\n",
       "      <td>0.000000</td>\n",
       "      <td>3457.620000</td>\n",
       "      <td>0.000000</td>\n",
       "    </tr>\n",
       "    <tr>\n",
       "      <th>max</th>\n",
       "      <td>180.200000</td>\n",
       "      <td>29623.350000</td>\n",
       "      <td>7002.190000</td>\n",
       "      <td>36115.200000</td>\n",
       "      <td>2.000000</td>\n",
       "    </tr>\n",
       "  </tbody>\n",
       "</table>\n",
       "</div>"
      ],
      "text/plain": [
       "       total_rec_late_fee    recoveries  collection_recovery_fee  \\\n",
       "count        36431.000000  36431.000000             36431.000000   \n",
       "mean             1.299912     92.852238                11.677622   \n",
       "std              7.065817    682.064837               140.884174   \n",
       "min              0.000000      0.000000                 0.000000   \n",
       "25%              0.000000      0.000000                 0.000000   \n",
       "50%              0.000000      0.000000                 0.000000   \n",
       "75%              0.000000      0.000000                 0.000000   \n",
       "max            180.200000  29623.350000              7002.190000   \n",
       "\n",
       "       last_pymnt_amnt  pub_rec_bankruptcies  \n",
       "count     36431.000000          36431.000000  \n",
       "mean       2743.075381              0.041366  \n",
       "std        4473.621163              0.200100  \n",
       "min           0.010000              0.000000  \n",
       "25%         226.310000              0.000000  \n",
       "50%         571.700000              0.000000  \n",
       "75%        3457.620000              0.000000  \n",
       "max       36115.200000              2.000000  "
      ]
     },
     "execution_count": 93,
     "metadata": {},
     "output_type": "execute_result"
    }
   ],
   "source": [
    "# Last 5 variables\n",
    "lending_clean2.describe().ix[:,20:25]"
   ]
  },
  {
   "cell_type": "code",
   "execution_count": 94,
   "metadata": {},
   "outputs": [
    {
     "data": {
      "image/png": "[encoded data removed]",
      "text/plain": [
       "<Figure size 1080x360 with 5 Axes>"
      ]
     },
     "metadata": {},
     "output_type": "display_data"
    }
   ],
   "source": [
    "plt.figure(figsize=(15,5))\n",
    "for i in range(20,25):\n",
    "    plt.subplot(1, 5, i-19)\n",
    "    plt.xticks(rotation=90)\n",
    "    sns.distplot(lending_clean2[lend.columns[i]])"
   ]
  },
  {
   "cell_type": "code",
   "execution_count": 95,
   "metadata": {},
   "outputs": [
    {
     "data": {
      "image/png": "[encoded data removed]",
      "text/plain": [
       "<Figure size 1080x360 with 5 Axes>"
      ]
     },
     "metadata": {},
     "output_type": "display_data"
    }
   ],
   "source": [
    "plt.figure(figsize=(15,5))\n",
    "for i in range(20,25):\n",
    "    plt.subplot(1, 5, i-19)\n",
    "    plt.xticks(rotation=90)\n",
    "    sns.boxplot(lending_clean2[lend.columns[i]])"
   ]
  },
  {
   "cell_type": "code",
   "execution_count": 96,
   "metadata": {},
   "outputs": [],
   "source": [
    "lending_clean2['total_rec_late_fee_flag']=lending_clean2['total_rec_late_fee'].apply(lambda x: \"1\" if x >0 else \"0\")\n",
    "lending_clean2['recoveries_flag']=lending_clean2['recoveries'].apply(lambda x: \"1\" if x >0 else \"0\")\n",
    "lending_clean2['collection_recovery_fee_flag']=lending_clean2['collection_recovery_fee'].apply(lambda x: \"1\" if x >0 else \"0\")\n",
    "lending_clean2['pub_rec_bankruptcies_flag']=lending_clean2['pub_rec_bankruptcies'].apply(lambda x: \"1\" if x >0 else \"0\")"
   ]
  },
  {
   "cell_type": "code",
   "execution_count": 30,
   "metadata": {},
   "outputs": [],
   "source": [
    "# Pairplot\n",
    "# sns.pairplot(lending_clean2[[*lend]])"
   ]
  },
  {
   "cell_type": "code",
   "execution_count": 31,
   "metadata": {},
   "outputs": [],
   "source": [
    "# Corelation plot\n",
    "# lending_clean2[[*lend]].corr()"
   ]
  },
  {
   "cell_type": "markdown",
   "metadata": {},
   "source": [
    "# Univariate Analysis for Categorical Variable"
   ]
  },
  {
   "cell_type": "code",
   "execution_count": 97,
   "metadata": {},
   "outputs": [
    {
     "name": "stdout",
     "output_type": "stream",
     "text": [
      "Index(['term', 'grade', 'sub_grade', 'emp_length', 'home_ownership',\n",
      "       'verification_status', 'issue_d', 'loan_status', 'purpose', 'zip_code',\n",
      "       'addr_state', 'earliest_cr_line', 'last_pymnt_d', 'last_credit_pull_d',\n",
      "       'delinq_2yrs_flag', 'annual_inc_flag', 'pub_rec_flag', 'out_prncp_flag',\n",
      "       'out_prncp_inv_flag', 'total_rec_late_fee_flag', 'recoveries_flag',\n",
      "       'collection_recovery_fee_flag', 'pub_rec_bankruptcies_flag'],\n",
      "      dtype='object')\n"
     ]
    }
   ],
   "source": [
    "lend_cat = lending_clean2.drop(lend.columns, axis=1)\n",
    "print(lend_cat.columns)"
   ]
  },
  {
   "cell_type": "code",
   "execution_count": 98,
   "metadata": {},
   "outputs": [
    {
     "data": {
      "image/png": "[encoded data removed]",
      "text/plain": [
       "<Figure size 1080x360 with 3 Axes>"
      ]
     },
     "metadata": {},
     "output_type": "display_data"
    }
   ],
   "source": [
    "plt.figure(figsize=(15,5))\n",
    "for i in range(0,3):\n",
    "    plt.subplot(1, 3, i+1)\n",
    "    plt.title(lend_cat.columns[i])\n",
    "    sns.countplot(y=lend_cat.columns[i], data=lend_cat)"
   ]
  },
  {
   "cell_type": "code",
   "execution_count": 99,
   "metadata": {},
   "outputs": [
    {
     "data": {
      "image/png": "[encoded data removed]",
      "text/plain": [
       "<Figure size 1080x360 with 3 Axes>"
      ]
     },
     "metadata": {},
     "output_type": "display_data"
    }
   ],
   "source": [
    "plt.figure(figsize=(15,5))\n",
    "for i in range(3,6):\n",
    "    plt.subplot(1, 3, i-2)\n",
    "    plt.title(lend_cat.columns[i])\n",
    "    sns.countplot(y=lend_cat.columns[i], data=lend_cat)"
   ]
  },
  {
   "cell_type": "code",
   "execution_count": 100,
   "metadata": {},
   "outputs": [
    {
     "data": {
      "text/plain": [
       "<matplotlib.axes._subplots.AxesSubplot at 0x1b12f736550>"
      ]
     },
     "execution_count": 100,
     "metadata": {},
     "output_type": "execute_result"
    },
    {
     "data": {
      "image/png": "[encoded data removed]",
      "text/plain": [
       "<Figure size 1080x360 with 1 Axes>"
      ]
     },
     "metadata": {},
     "output_type": "display_data"
    }
   ],
   "source": [
    "plt.figure(figsize=(15,5))\n",
    "sns.countplot(y=lend_cat.purpose, data=lend_cat)"
   ]
  },
  {
   "cell_type": "code",
   "execution_count": 101,
   "metadata": {},
   "outputs": [
    {
     "data": {
      "text/plain": [
       "(array([ 0,  1,  2,  3,  4,  5,  6,  7,  8,  9, 10, 11, 12, 13, 14, 15, 16,\n",
       "        17, 18, 19, 20, 21, 22, 23, 24, 25, 26, 27, 28, 29, 30, 31, 32, 33,\n",
       "        34, 35, 36, 37, 38, 39, 40, 41, 42, 43, 44, 45, 46, 47]),\n",
       " <a list of 48 Text xticklabel objects>)"
      ]
     },
     "execution_count": 101,
     "metadata": {},
     "output_type": "execute_result"
    },
    {
     "data": {
      "image/png": "[encoded data removed]",
      "text/plain": [
       "<Figure size 1080x360 with 1 Axes>"
      ]
     },
     "metadata": {},
     "output_type": "display_data"
    }
   ],
   "source": [
    "plt.figure(figsize=(15,5))\n",
    "sns.countplot(x=lend_cat.addr_state, data=lend_cat)\n",
    "plt.xticks(rotation=90)\n"
   ]
  },
  {
   "cell_type": "code",
   "execution_count": 37,
   "metadata": {},
   "outputs": [],
   "source": [
    "# Plotting New categorical variables columns derived from continuous variables"
   ]
  },
  {
   "cell_type": "code",
   "execution_count": 102,
   "metadata": {},
   "outputs": [
    {
     "data": {
      "image/png": "[encoded data removed]",
      "text/plain": [
       "<Figure size 1080x360 with 11 Axes>"
      ]
     },
     "metadata": {},
     "output_type": "display_data"
    }
   ],
   "source": [
    "plt.figure(figsize=(15,5))\n",
    "for i in range(37,48):\n",
    "    plt.subplot(1, 11, i-36)\n",
    "    sns.countplot(y=lending_clean2.columns[i], data=lending_clean2)\n",
    "    plt.xticks(rotation=90)\n"
   ]
  },
  {
   "cell_type": "markdown",
   "metadata": {},
   "source": [
    "# -------------------------------Analysis Part-3------------------------------"
   ]
  },
  {
   "cell_type": "markdown",
   "metadata": {},
   "source": [
    "# Bivariate Analysis with Loan Status"
   ]
  },
  {
   "cell_type": "code",
   "execution_count": 103,
   "metadata": {},
   "outputs": [],
   "source": [
    "#Converting to status 0 and 1.\n",
    "lending_clean2['loan_status_cat']=lending_clean2['loan_status']\n",
    "lending_clean2=lending_clean2.drop([\"loan_status\"],axis=1)\n",
    "lending_clean2['loan_status']=lending_clean2['loan_status_cat'].apply(lambda x : \"1\" if x ==\"Charged Off\" else \"0\")\n"
   ]
  },
  {
   "cell_type": "markdown",
   "metadata": {},
   "source": [
    "# Continuous variables"
   ]
  },
  {
   "cell_type": "code",
   "execution_count": 104,
   "metadata": {
    "scrolled": true
   },
   "outputs": [
    {
     "data": {
      "image/png": "[encoded data removed]",
      "text/plain": [
       "<Figure size 1080x360 with 5 Axes>"
      ]
     },
     "metadata": {},
     "output_type": "display_data"
    }
   ],
   "source": [
    "plt.figure(figsize=(15,5))\n",
    "for i in range(0,5):\n",
    "    plt.subplot(1, 5, i+1)\n",
    "    sns.boxplot(y=lending_clean2[lend.columns[i]],x=lending_clean2['loan_status'],data=lending_clean2)\n",
    "    plt.xticks(rotation=90)\n",
    "    plt.subplots_adjust(left=None, bottom=None, right=None, top=None, wspace=3, hspace=None)"
   ]
  },
  {
   "cell_type": "markdown",
   "metadata": {},
   "source": [
    "Note:From the above figure it was found that Int rate and installment have higher impact on Loan Status. Loan Amnt, Funded Amnt and Funded Amnt_inv have high corelation"
   ]
  },
  {
   "cell_type": "code",
   "execution_count": 105,
   "metadata": {},
   "outputs": [
    {
     "data": {
      "image/png": "[encoded data removed]",
      "text/plain": [
       "<Figure size 1080x360 with 5 Axes>"
      ]
     },
     "metadata": {},
     "output_type": "display_data"
    }
   ],
   "source": [
    "plt.figure(figsize=(15,5))\n",
    "for i in range(5,10):\n",
    "    plt.subplot(1, 5, i-4)\n",
    "    sns.boxplot(y=lending_clean2[lend.columns[i]],x=lending_clean2['loan_status'],data=lending_clean2)\n",
    "    plt.xticks(rotation=90)\n",
    "    plt.subplots_adjust(left=None, bottom=None, right=None, top=None, wspace=0.85, hspace=None)\n",
    "    \n",
    "#for first , third and fourt variable created flag    "
   ]
  },
  {
   "cell_type": "markdown",
   "metadata": {},
   "source": [
    "Note:From the above figure it was found that dti and inq_last_6mnth have higher impact on Loan Status. For Annual income,delinu_2 yrs we have created bins and will be covered by Categorical Analysis. "
   ]
  },
  {
   "cell_type": "code",
   "execution_count": 106,
   "metadata": {},
   "outputs": [
    {
     "data": {
      "image/png": "[encoded data removed]",
      "text/plain": [
       "<Figure size 1080x360 with 5 Axes>"
      ]
     },
     "metadata": {},
     "output_type": "display_data"
    }
   ],
   "source": [
    "plt.figure(figsize=(15,5))\n",
    "\n",
    "for i in range(10,15):\n",
    "    plt.subplot(1, 5, i-9)\n",
    "    sns.boxplot(y=lending_clean2[lend.columns[i]],x=lending_clean2['loan_status'],data=lending_clean2)\n",
    "    plt.xticks(rotation=90)\n",
    "    plt.subplots_adjust(left=None, bottom=None, right=None, top=None, wspace=0.85, hspace=None)\n",
    "    \n",
    "#Note:for first and last variable we have created flag.        "
   ]
  },
  {
   "cell_type": "markdown",
   "metadata": {},
   "source": [
    "Note:From the above figure it was found that revol_util has higher impact on Loan Status. "
   ]
  },
  {
   "cell_type": "code",
   "execution_count": 107,
   "metadata": {},
   "outputs": [
    {
     "data": {
      "image/png": "[encoded data removed]",
      "text/plain": [
       "<Figure size 1080x360 with 5 Axes>"
      ]
     },
     "metadata": {},
     "output_type": "display_data"
    }
   ],
   "source": [
    "plt.figure(figsize=(15,5))\n",
    "for i in range(15,20):\n",
    "    plt.subplot(1, 5, i-14)\n",
    "    sns.boxplot(y=lending_clean2[lend.columns[i]],x=lending_clean2['loan_status'],data=lending_clean2)\n",
    "    plt.xticks(rotation=90)\n",
    "    plt.subplots_adjust(left=None, bottom=None, right=None, top=None, wspace=0.85, hspace=None)\n",
    "    \n",
    "#Note:for first variable we have created flag.    "
   ]
  },
  {
   "cell_type": "markdown",
   "metadata": {},
   "source": [
    "Note:From the above figure it was found that Total Payement and Total_rec_princ have higher impact on Loan Status. As both the details we can obtain post loan disbursement we are not considering in Top 5."
   ]
  },
  {
   "cell_type": "code",
   "execution_count": 108,
   "metadata": {},
   "outputs": [
    {
     "data": {
      "image/png": "[encoded data removed]",
      "text/plain": [
       "<Figure size 1080x360 with 5 Axes>"
      ]
     },
     "metadata": {},
     "output_type": "display_data"
    }
   ],
   "source": [
    "plt.figure(figsize=(15,5))\n",
    "for i in range(20,25):\n",
    "    plt.subplot(1, 5, i-19)\n",
    "    g=sns.boxplot(y=lending_clean2[lend.columns[i]],x=lending_clean2['loan_status'],data=lending_clean2)\n",
    "    plt.xticks(rotation=90)\n",
    "    plt.subplots_adjust(left=None, bottom=None, right=None, top=None, wspace=0.85, hspace=None)\n",
    "\n",
    "#Note:for first 3 and last variable we have created flag."
   ]
  },
  {
   "cell_type": "markdown",
   "metadata": {},
   "source": [
    "Note:From the above figure it was found that recoveries and last payment have higher impact on Loan Status. As both the details we can obtain post loan disbursement we are not considering in Top 5."
   ]
  },
  {
   "cell_type": "code",
   "execution_count": 45,
   "metadata": {},
   "outputs": [],
   "source": [
    "# categorical new flag variables "
   ]
  },
  {
   "cell_type": "code",
   "execution_count": 109,
   "metadata": {},
   "outputs": [
    {
     "name": "stdout",
     "output_type": "stream",
     "text": [
      "(6.571597101425523, 0.01036189251830996, 1, array([[28077.42515989,  4406.57484011],\n",
      "       [ 3411.57484011,   535.42515989]]))\n"
     ]
    },
    {
     "data": {
      "text/html": [
       "<div>\n",
       "<style scoped>\n",
       "    .dataframe tbody tr th:only-of-type {\n",
       "        vertical-align: middle;\n",
       "    }\n",
       "\n",
       "    .dataframe tbody tr th {\n",
       "        vertical-align: top;\n",
       "    }\n",
       "\n",
       "    .dataframe thead th {\n",
       "        text-align: right;\n",
       "    }\n",
       "</style>\n",
       "<table border=\"1\" class=\"dataframe\">\n",
       "  <thead>\n",
       "    <tr style=\"text-align: right;\">\n",
       "      <th>loan_status</th>\n",
       "      <th>0</th>\n",
       "      <th>1</th>\n",
       "    </tr>\n",
       "    <tr>\n",
       "      <th>delinq_2yrs_flag</th>\n",
       "      <th></th>\n",
       "      <th></th>\n",
       "    </tr>\n",
       "  </thead>\n",
       "  <tbody>\n",
       "    <tr>\n",
       "      <th>0</th>\n",
       "      <td>0.865965</td>\n",
       "      <td>0.134035</td>\n",
       "    </tr>\n",
       "    <tr>\n",
       "      <th>1</th>\n",
       "      <td>0.851026</td>\n",
       "      <td>0.148974</td>\n",
       "    </tr>\n",
       "  </tbody>\n",
       "</table>\n",
       "</div>"
      ],
      "text/plain": [
       "loan_status              0         1\n",
       "delinq_2yrs_flag                    \n",
       "0                 0.865965  0.134035\n",
       "1                 0.851026  0.148974"
      ]
     },
     "execution_count": 109,
     "metadata": {},
     "output_type": "execute_result"
    }
   ],
   "source": [
    "from scipy.stats import chi2_contingency\n",
    "print(chi2_contingency(pd.crosstab(lending_clean2.delinq_2yrs_flag,lending_clean2.loan_status)))\n",
    "pd.crosstab(lending_clean2.delinq_2yrs_flag,lending_clean2.loan_status).apply(lambda r: r/r.sum(), axis=1)"
   ]
  },
  {
   "cell_type": "markdown",
   "metadata": {},
   "source": [
    "Note:From the above matrix it was found that Total delinq_2yrs and Loan Status are dependent, but the percentage change is less. Not considering."
   ]
  },
  {
   "cell_type": "code",
   "execution_count": 110,
   "metadata": {},
   "outputs": [
    {
     "name": "stdout",
     "output_type": "stream",
     "text": [
      "loan_status         0     1\n",
      "out_prncp_flag             \n",
      "0               30423  4942\n",
      "1                1066     0\n",
      "(171.15517119904672, 4.1387620150175713e-39, 1, array([[30567.60684582,  4797.39315418],\n",
      "       [  921.39315418,   144.60684582]]))\n"
     ]
    },
    {
     "data": {
      "text/html": [
       "<div>\n",
       "<style scoped>\n",
       "    .dataframe tbody tr th:only-of-type {\n",
       "        vertical-align: middle;\n",
       "    }\n",
       "\n",
       "    .dataframe tbody tr th {\n",
       "        vertical-align: top;\n",
       "    }\n",
       "\n",
       "    .dataframe thead th {\n",
       "        text-align: right;\n",
       "    }\n",
       "</style>\n",
       "<table border=\"1\" class=\"dataframe\">\n",
       "  <thead>\n",
       "    <tr style=\"text-align: right;\">\n",
       "      <th>loan_status</th>\n",
       "      <th>0</th>\n",
       "      <th>1</th>\n",
       "    </tr>\n",
       "    <tr>\n",
       "      <th>out_prncp_flag</th>\n",
       "      <th></th>\n",
       "      <th></th>\n",
       "    </tr>\n",
       "  </thead>\n",
       "  <tbody>\n",
       "    <tr>\n",
       "      <th>0</th>\n",
       "      <td>0.860257</td>\n",
       "      <td>0.139743</td>\n",
       "    </tr>\n",
       "    <tr>\n",
       "      <th>1</th>\n",
       "      <td>1.000000</td>\n",
       "      <td>0.000000</td>\n",
       "    </tr>\n",
       "  </tbody>\n",
       "</table>\n",
       "</div>"
      ],
      "text/plain": [
       "loan_status            0         1\n",
       "out_prncp_flag                    \n",
       "0               0.860257  0.139743\n",
       "1               1.000000  0.000000"
      ]
     },
     "execution_count": 110,
     "metadata": {},
     "output_type": "execute_result"
    }
   ],
   "source": [
    "print(pd.crosstab(lending_clean2.out_prncp_flag,lending_clean2.loan_status))\n",
    "print(chi2_contingency(pd.crosstab(lending_clean2.out_prncp_flag,lending_clean2.loan_status)))\n",
    "pd.crosstab(lending_clean2.out_prncp_flag,lending_clean2.loan_status).apply(lambda r: r/r.sum(), axis=1)"
   ]
  },
  {
   "cell_type": "markdown",
   "metadata": {},
   "source": [
    "Note:From the above matrix it was found that Total out_prncp_flag and Loan Status are dependent, but due to post disbursement property we are not considering in top 5."
   ]
  },
  {
   "cell_type": "code",
   "execution_count": 111,
   "metadata": {},
   "outputs": [
    {
     "name": "stdout",
     "output_type": "stream",
     "text": [
      "loan_status          0     1\n",
      "annual_inc_flag             \n",
      "0                 8034  1611\n",
      "1                15334  2390\n",
      "2                 8121   941\n",
      "(159.29970792783746, 2.5615800903297e-35, 2, array([[ 8336.62004886,  1308.37995114],\n",
      "       [15319.6737943 ,  2404.3262057 ],\n",
      "       [ 7832.70615684,  1229.29384316]]))\n"
     ]
    },
    {
     "data": {
      "text/plain": [
       "<Figure size 1080x360 with 0 Axes>"
      ]
     },
     "metadata": {},
     "output_type": "display_data"
    },
    {
     "data": {
      "image/png": "[encoded data removed]",
      "text/plain": [
       "<Figure size 432x288 with 1 Axes>"
      ]
     },
     "metadata": {},
     "output_type": "display_data"
    }
   ],
   "source": [
    "plt.figure(figsize=(15,5))\n",
    "print(pd.crosstab(lending_clean2.annual_inc_flag,lending_clean2.loan_status))\n",
    "print(chi2_contingency(pd.crosstab(lending_clean2.annual_inc_flag,lending_clean2.loan_status)))\n",
    "ct=pd.crosstab(lending_clean2.annual_inc_flag,lending_clean2.loan_status).apply(lambda r: r/r.sum(), axis=1)\n",
    "ct.plot.bar(stacked=True)\n",
    "plt.legend(title='mark')\n",
    "plt.show()"
   ]
  },
  {
   "cell_type": "markdown",
   "metadata": {},
   "source": [
    "Note:From the above matrix it was found that annual_inc_flag and Loan Status are dependent, considering for top 5 analysis."
   ]
  },
  {
   "cell_type": "code",
   "execution_count": 112,
   "metadata": {},
   "outputs": [
    {
     "name": "stdout",
     "output_type": "stream",
     "text": [
      "(171.15517119904672, 4.1387620150175713e-39, 1, array([[30567.60684582,  4797.39315418],\n",
      "       [  921.39315418,   144.60684582]]))\n"
     ]
    },
    {
     "data": {
      "text/html": [
       "<div>\n",
       "<style scoped>\n",
       "    .dataframe tbody tr th:only-of-type {\n",
       "        vertical-align: middle;\n",
       "    }\n",
       "\n",
       "    .dataframe tbody tr th {\n",
       "        vertical-align: top;\n",
       "    }\n",
       "\n",
       "    .dataframe thead th {\n",
       "        text-align: right;\n",
       "    }\n",
       "</style>\n",
       "<table border=\"1\" class=\"dataframe\">\n",
       "  <thead>\n",
       "    <tr style=\"text-align: right;\">\n",
       "      <th>loan_status</th>\n",
       "      <th>0</th>\n",
       "      <th>1</th>\n",
       "    </tr>\n",
       "    <tr>\n",
       "      <th>out_prncp_inv_flag</th>\n",
       "      <th></th>\n",
       "      <th></th>\n",
       "    </tr>\n",
       "  </thead>\n",
       "  <tbody>\n",
       "    <tr>\n",
       "      <th>0</th>\n",
       "      <td>0.860257</td>\n",
       "      <td>0.139743</td>\n",
       "    </tr>\n",
       "    <tr>\n",
       "      <th>1</th>\n",
       "      <td>1.000000</td>\n",
       "      <td>0.000000</td>\n",
       "    </tr>\n",
       "  </tbody>\n",
       "</table>\n",
       "</div>"
      ],
      "text/plain": [
       "loan_status                0         1\n",
       "out_prncp_inv_flag                    \n",
       "0                   0.860257  0.139743\n",
       "1                   1.000000  0.000000"
      ]
     },
     "execution_count": 112,
     "metadata": {},
     "output_type": "execute_result"
    }
   ],
   "source": [
    "print(chi2_contingency(pd.crosstab(lending_clean2.out_prncp_inv_flag,lending_clean2.loan_status)))\n",
    "pd.crosstab(lending_clean2.out_prncp_inv_flag,lending_clean2.loan_status).apply(lambda r: r/r.sum(), axis=1)"
   ]
  },
  {
   "cell_type": "markdown",
   "metadata": {},
   "source": [
    "Note:From the above matrix it was found that Total out_prncp_inv_flag and Loan Status are dependent, but due to post disbursement property we are not considering in top 5."
   ]
  },
  {
   "cell_type": "code",
   "execution_count": 113,
   "metadata": {},
   "outputs": [
    {
     "name": "stdout",
     "output_type": "stream",
     "text": [
      "loan_status                  0     1\n",
      "total_rec_late_fee_flag             \n",
      "0                        30427  4189\n",
      "1                         1062   753\n",
      "(1267.635332774832, 1.2206352843124916e-277, 1, array([[29920.21146826,  4695.78853174],\n",
      "       [ 1568.78853174,   246.21146826]]))\n"
     ]
    },
    {
     "data": {
      "text/html": [
       "<div>\n",
       "<style scoped>\n",
       "    .dataframe tbody tr th:only-of-type {\n",
       "        vertical-align: middle;\n",
       "    }\n",
       "\n",
       "    .dataframe tbody tr th {\n",
       "        vertical-align: top;\n",
       "    }\n",
       "\n",
       "    .dataframe thead th {\n",
       "        text-align: right;\n",
       "    }\n",
       "</style>\n",
       "<table border=\"1\" class=\"dataframe\">\n",
       "  <thead>\n",
       "    <tr style=\"text-align: right;\">\n",
       "      <th>loan_status</th>\n",
       "      <th>0</th>\n",
       "      <th>1</th>\n",
       "    </tr>\n",
       "    <tr>\n",
       "      <th>total_rec_late_fee_flag</th>\n",
       "      <th></th>\n",
       "      <th></th>\n",
       "    </tr>\n",
       "  </thead>\n",
       "  <tbody>\n",
       "    <tr>\n",
       "      <th>0</th>\n",
       "      <td>0.878987</td>\n",
       "      <td>0.121013</td>\n",
       "    </tr>\n",
       "    <tr>\n",
       "      <th>1</th>\n",
       "      <td>0.585124</td>\n",
       "      <td>0.414876</td>\n",
       "    </tr>\n",
       "  </tbody>\n",
       "</table>\n",
       "</div>"
      ],
      "text/plain": [
       "loan_status                     0         1\n",
       "total_rec_late_fee_flag                    \n",
       "0                        0.878987  0.121013\n",
       "1                        0.585124  0.414876"
      ]
     },
     "execution_count": 113,
     "metadata": {},
     "output_type": "execute_result"
    }
   ],
   "source": [
    "print(pd.crosstab(lending_clean2.total_rec_late_fee_flag,lending_clean2.loan_status))\n",
    "print(chi2_contingency(pd.crosstab(lending_clean2.total_rec_late_fee_flag,lending_clean2.loan_status)))\n",
    "pd.crosstab(lending_clean2.total_rec_late_fee_flag,lending_clean2.loan_status).apply(lambda r: r/r.sum(), axis=1)"
   ]
  },
  {
   "cell_type": "markdown",
   "metadata": {},
   "source": [
    "Note:From the above matrix it was found that Total rec_late_fee_flag and Loan Status are dependent, but due to post disbursement property we are not considering in top 5."
   ]
  },
  {
   "cell_type": "code",
   "execution_count": 114,
   "metadata": {},
   "outputs": [
    {
     "name": "stdout",
     "output_type": "stream",
     "text": [
      "loan_status          0     1\n",
      "recoveries_flag             \n",
      "0                31489  1215\n",
      "1                    0  3727\n",
      "(26445.447097234708, 0.0, 1, array([[28267.58134556,  4436.41865444],\n",
      "       [ 3221.41865444,   505.58134556]]))\n"
     ]
    },
    {
     "data": {
      "text/html": [
       "<div>\n",
       "<style scoped>\n",
       "    .dataframe tbody tr th:only-of-type {\n",
       "        vertical-align: middle;\n",
       "    }\n",
       "\n",
       "    .dataframe tbody tr th {\n",
       "        vertical-align: top;\n",
       "    }\n",
       "\n",
       "    .dataframe thead th {\n",
       "        text-align: right;\n",
       "    }\n",
       "</style>\n",
       "<table border=\"1\" class=\"dataframe\">\n",
       "  <thead>\n",
       "    <tr style=\"text-align: right;\">\n",
       "      <th>loan_status</th>\n",
       "      <th>0</th>\n",
       "      <th>1</th>\n",
       "    </tr>\n",
       "    <tr>\n",
       "      <th>recoveries_flag</th>\n",
       "      <th></th>\n",
       "      <th></th>\n",
       "    </tr>\n",
       "  </thead>\n",
       "  <tbody>\n",
       "    <tr>\n",
       "      <th>0</th>\n",
       "      <td>0.962849</td>\n",
       "      <td>0.037151</td>\n",
       "    </tr>\n",
       "    <tr>\n",
       "      <th>1</th>\n",
       "      <td>0.000000</td>\n",
       "      <td>1.000000</td>\n",
       "    </tr>\n",
       "  </tbody>\n",
       "</table>\n",
       "</div>"
      ],
      "text/plain": [
       "loan_status             0         1\n",
       "recoveries_flag                    \n",
       "0                0.962849  0.037151\n",
       "1                0.000000  1.000000"
      ]
     },
     "execution_count": 114,
     "metadata": {},
     "output_type": "execute_result"
    }
   ],
   "source": [
    "print(pd.crosstab(lending_clean2.recoveries_flag,lending_clean2.loan_status))\n",
    "print(chi2_contingency(pd.crosstab(lending_clean2.recoveries_flag,lending_clean2.loan_status)))\n",
    "pd.crosstab(lending_clean2.recoveries_flag,lending_clean2.loan_status).apply(lambda r: r/r.sum(), axis=1)"
   ]
  },
  {
   "cell_type": "markdown",
   "metadata": {},
   "source": [
    "Note:From the above matrix it was found that recovery_flag and Loan Status are dependent, but due to post disbursement property we are not considering in top 5."
   ]
  },
  {
   "cell_type": "code",
   "execution_count": 115,
   "metadata": {},
   "outputs": [
    {
     "name": "stdout",
     "output_type": "stream",
     "text": [
      "loan_status                       0     1\n",
      "collection_recovery_fee_flag             \n",
      "0                             31489  1610\n",
      "1                                 0  3332\n",
      "(23359.660703923815, 0.0, 1, array([[28608.99813346,  4490.00186654],\n",
      "       [ 2880.00186654,   451.99813346]]))\n",
      "loan_status                          0         1\n",
      "collection_recovery_fee_flag                    \n",
      "0                             0.951358  0.048642\n",
      "1                             0.000000  1.000000\n"
     ]
    }
   ],
   "source": [
    "print(pd.crosstab(lending_clean2.collection_recovery_fee_flag,lending_clean2.loan_status))\n",
    "print(chi2_contingency(pd.crosstab(lending_clean2.collection_recovery_fee_flag,lending_clean2.loan_status)))\n",
    "print(pd.crosstab(lending_clean2.collection_recovery_fee_flag,lending_clean2.loan_status).apply(lambda r: r/r.sum(), axis=1))"
   ]
  },
  {
   "cell_type": "markdown",
   "metadata": {},
   "source": [
    "Note:From the above matrix it was found that Total collection_recovery_fee_flag and Loan Status are dependent, but due to post disbursement property we are not considering in top 5."
   ]
  },
  {
   "cell_type": "code",
   "execution_count": 116,
   "metadata": {},
   "outputs": [
    {
     "name": "stdout",
     "output_type": "stream",
     "text": [
      "(69.19158742582417, 8.934834430395601e-17, 1, array([[30192.48055228,  4738.51944772],\n",
      "       [ 1296.51944772,   203.48055228]]))\n"
     ]
    },
    {
     "data": {
      "text/plain": [
       "<Figure size 1080x360 with 0 Axes>"
      ]
     },
     "metadata": {},
     "output_type": "display_data"
    },
    {
     "data": {
      "image/png": "[encoded data removed]",
      "text/plain": [
       "<Figure size 432x288 with 1 Axes>"
      ]
     },
     "metadata": {},
     "output_type": "display_data"
    }
   ],
   "source": [
    "plt.figure(figsize=(15,5))\n",
    "print(chi2_contingency(pd.crosstab(lending_clean2.pub_rec_bankruptcies_flag,lending_clean2.loan_status)))\n",
    "ct=pd.crosstab(lending_clean2.pub_rec_bankruptcies_flag,lending_clean2.loan_status).apply(lambda r: r/r.sum(), axis=1)\n",
    "ct.plot.bar(stacked=True)\n",
    "plt.legend(title='mark')\n",
    "plt.show()"
   ]
  },
  {
   "cell_type": "markdown",
   "metadata": {},
   "source": [
    "Note:From the above matrix it was found that pub_rec_bank_flag and Loan Status are dependent,  considering for top 5 analysis."
   ]
  },
  {
   "cell_type": "code",
   "execution_count": 117,
   "metadata": {},
   "outputs": [
    {
     "name": "stdout",
     "output_type": "stream",
     "text": [
      "loan_status      0     1\n",
      "term                    \n",
      " 36 months   23646  2729\n",
      " 60 months    7843  2213\n",
      "(843.1422079227771, 2.2514997020326636e-185, 1, array([[22797.13362246,  3577.86637754],\n",
      "       [ 8691.86637754,  1364.13362246]]))\n"
     ]
    },
    {
     "data": {
      "image/png": "[encoded data removed]",
      "text/plain": [
       "<Figure size 432x288 with 1 Axes>"
      ]
     },
     "metadata": {},
     "output_type": "display_data"
    }
   ],
   "source": [
    "print(pd.crosstab(lending_clean2.term,lending_clean2.loan_status))\n",
    "print(chi2_contingency(pd.crosstab(lending_clean2.term,lending_clean2.loan_status)))\n",
    "ct=pd.crosstab(lending_clean2.term,lending_clean2.loan_status).apply(lambda r: r/r.sum(), axis=1)\n",
    "ct.plot.bar(stacked=True)\n",
    "plt.legend(title='mark')\n",
    "plt.show()"
   ]
  },
  {
   "cell_type": "markdown",
   "metadata": {},
   "source": [
    "Note:From the above matrix it was found that term and Loan Status are dependent, considering for top 5 analysis."
   ]
  },
  {
   "cell_type": "code",
   "execution_count": 118,
   "metadata": {},
   "outputs": [
    {
     "name": "stdout",
     "output_type": "stream",
     "text": [
      "loan_status     0     1\n",
      "grade                  \n",
      "A            8662   513\n",
      "B            9782  1253\n",
      "C            6261  1169\n",
      "D            3894   980\n",
      "E            2002   648\n",
      "F             683   286\n",
      "G             205    93\n",
      "(1308.4579071814187, 1.5985739448609166e-279, 6, array([[7930.37728857, 1244.62271143],\n",
      "       [9538.06140375, 1496.93859625],\n",
      "       [6422.09299772, 1007.90700228],\n",
      "       [4212.8238588 ,  661.1761412 ],\n",
      "       [2290.51769098,  359.48230902],\n",
      "       [ 837.55156323,  131.44843677],\n",
      "       [ 257.57519695,   40.42480305]]))\n"
     ]
    },
    {
     "data": {
      "text/plain": [
       "<Figure size 1080x360 with 0 Axes>"
      ]
     },
     "metadata": {},
     "output_type": "display_data"
    },
    {
     "data": {
      "image/png": "[encoded data removed]",
      "text/plain": [
       "<Figure size 432x288 with 1 Axes>"
      ]
     },
     "metadata": {},
     "output_type": "display_data"
    }
   ],
   "source": [
    "plt.figure(figsize=(15,5))\n",
    "print(pd.crosstab(lending_clean2.grade,lending_clean2.loan_status))\n",
    "print(chi2_contingency(pd.crosstab(lending_clean2.grade,lending_clean2.loan_status)))\n",
    "ct=pd.crosstab(lending_clean2.grade,lending_clean2.loan_status).apply(lambda r: r/r.sum(), axis=1)\n",
    "ct.plot.bar(stacked=True)\n",
    "plt.legend(title='mark')\n",
    "plt.show()"
   ]
  },
  {
   "cell_type": "markdown",
   "metadata": {},
   "source": [
    "Note:From the above matrix it was found that grade and Loan Status are dependent, considering for top 5 analysis."
   ]
  },
  {
   "cell_type": "code",
   "execution_count": 119,
   "metadata": {},
   "outputs": [
    {
     "name": "stdout",
     "output_type": "stream",
     "text": [
      "(1417.043985270614, 3.87032453166905e-276, 34, array([[ 868.66802997,  136.33197003],\n",
      "       [1172.05358074,  183.94641926],\n",
      "       [1408.88446653,  221.11553347],\n",
      "       [2310.39765584,  362.60234416],\n",
      "       [2170.37355549,  340.62644451],\n",
      "       [1420.12096841,  222.87903159],\n",
      "       [1616.32757816,  253.67242184],\n",
      "       [2311.26200214,  362.73799786],\n",
      "       [2004.41906618,  314.58093382],\n",
      "       [2185.93178886,  343.06821114],\n",
      "       [1684.61093574,  264.38906426],\n",
      "       [1616.32757816,  253.67242184],\n",
      "       [1215.27089567,  190.72910433],\n",
      "       [ 970.6608932 ,  152.3391068 ],\n",
      "       [ 935.22269496,  146.77730504],\n",
      "       [ 730.37262222,  114.62737778],\n",
      "       [1076.11114161,  168.88885839],\n",
      "       [ 931.76530976,  146.23469024],\n",
      "       [ 782.23340013,  122.76659987],\n",
      "       [ 692.34138508,  108.65861492],\n",
      "       [ 630.10845159,   98.89154841],\n",
      "       [ 523.79385688,   82.20614312],\n",
      "       [ 446.00269002,   69.99730998],\n",
      "       [ 365.61848426,   57.38151574],\n",
      "       [ 324.99420823,   51.00579177],\n",
      "       [ 272.26908402,   42.73091598],\n",
      "       [ 198.79964865,   31.20035135],\n",
      "       [ 146.93887074,   23.06112926],\n",
      "       [ 130.51629107,   20.48370893],\n",
      "       [  89.02766874,   13.97233126],\n",
      "       [  84.70593725,   13.29406275],\n",
      "       [  64.82597239,   10.17402761],\n",
      "       [  38.03123713,    5.96876287],\n",
      "       [  48.40339271,    7.59660729],\n",
      "       [  21.60865746,    3.39134254]]))\n"
     ]
    },
    {
     "data": {
      "text/html": [
       "<div>\n",
       "<style scoped>\n",
       "    .dataframe tbody tr th:only-of-type {\n",
       "        vertical-align: middle;\n",
       "    }\n",
       "\n",
       "    .dataframe tbody tr th {\n",
       "        vertical-align: top;\n",
       "    }\n",
       "\n",
       "    .dataframe thead th {\n",
       "        text-align: right;\n",
       "    }\n",
       "</style>\n",
       "<table border=\"1\" class=\"dataframe\">\n",
       "  <thead>\n",
       "    <tr style=\"text-align: right;\">\n",
       "      <th>loan_status</th>\n",
       "      <th>0</th>\n",
       "      <th>1</th>\n",
       "    </tr>\n",
       "    <tr>\n",
       "      <th>sub_grade</th>\n",
       "      <th></th>\n",
       "      <th></th>\n",
       "    </tr>\n",
       "  </thead>\n",
       "  <tbody>\n",
       "    <tr>\n",
       "      <th>A1</th>\n",
       "      <td>0.977114</td>\n",
       "      <td>0.022886</td>\n",
       "    </tr>\n",
       "    <tr>\n",
       "      <th>A2</th>\n",
       "      <td>0.953540</td>\n",
       "      <td>0.046460</td>\n",
       "    </tr>\n",
       "    <tr>\n",
       "      <th>A3</th>\n",
       "      <td>0.950920</td>\n",
       "      <td>0.049080</td>\n",
       "    </tr>\n",
       "    <tr>\n",
       "      <th>A4</th>\n",
       "      <td>0.940890</td>\n",
       "      <td>0.059110</td>\n",
       "    </tr>\n",
       "    <tr>\n",
       "      <th>A5</th>\n",
       "      <td>0.924731</td>\n",
       "      <td>0.075269</td>\n",
       "    </tr>\n",
       "    <tr>\n",
       "      <th>B1</th>\n",
       "      <td>0.914181</td>\n",
       "      <td>0.085819</td>\n",
       "    </tr>\n",
       "    <tr>\n",
       "      <th>B2</th>\n",
       "      <td>0.897861</td>\n",
       "      <td>0.102139</td>\n",
       "    </tr>\n",
       "    <tr>\n",
       "      <th>B3</th>\n",
       "      <td>0.885191</td>\n",
       "      <td>0.114809</td>\n",
       "    </tr>\n",
       "    <tr>\n",
       "      <th>B4</th>\n",
       "      <td>0.877965</td>\n",
       "      <td>0.122035</td>\n",
       "    </tr>\n",
       "    <tr>\n",
       "      <th>B5</th>\n",
       "      <td>0.869118</td>\n",
       "      <td>0.130882</td>\n",
       "    </tr>\n",
       "    <tr>\n",
       "      <th>C1</th>\n",
       "      <td>0.852232</td>\n",
       "      <td>0.147768</td>\n",
       "    </tr>\n",
       "    <tr>\n",
       "      <th>C2</th>\n",
       "      <td>0.849198</td>\n",
       "      <td>0.150802</td>\n",
       "    </tr>\n",
       "    <tr>\n",
       "      <th>C3</th>\n",
       "      <td>0.832148</td>\n",
       "      <td>0.167852</td>\n",
       "    </tr>\n",
       "    <tr>\n",
       "      <th>C4</th>\n",
       "      <td>0.837934</td>\n",
       "      <td>0.162066</td>\n",
       "    </tr>\n",
       "    <tr>\n",
       "      <th>C5</th>\n",
       "      <td>0.832717</td>\n",
       "      <td>0.167283</td>\n",
       "    </tr>\n",
       "    <tr>\n",
       "      <th>D1</th>\n",
       "      <td>0.833136</td>\n",
       "      <td>0.166864</td>\n",
       "    </tr>\n",
       "    <tr>\n",
       "      <th>D2</th>\n",
       "      <td>0.810442</td>\n",
       "      <td>0.189558</td>\n",
       "    </tr>\n",
       "    <tr>\n",
       "      <th>D3</th>\n",
       "      <td>0.789425</td>\n",
       "      <td>0.210575</td>\n",
       "    </tr>\n",
       "    <tr>\n",
       "      <th>D4</th>\n",
       "      <td>0.787845</td>\n",
       "      <td>0.212155</td>\n",
       "    </tr>\n",
       "    <tr>\n",
       "      <th>D5</th>\n",
       "      <td>0.770287</td>\n",
       "      <td>0.229713</td>\n",
       "    </tr>\n",
       "    <tr>\n",
       "      <th>E1</th>\n",
       "      <td>0.746228</td>\n",
       "      <td>0.253772</td>\n",
       "    </tr>\n",
       "    <tr>\n",
       "      <th>E2</th>\n",
       "      <td>0.757426</td>\n",
       "      <td>0.242574</td>\n",
       "    </tr>\n",
       "    <tr>\n",
       "      <th>E3</th>\n",
       "      <td>0.796512</td>\n",
       "      <td>0.203488</td>\n",
       "    </tr>\n",
       "    <tr>\n",
       "      <th>E4</th>\n",
       "      <td>0.728132</td>\n",
       "      <td>0.271868</td>\n",
       "    </tr>\n",
       "    <tr>\n",
       "      <th>E5</th>\n",
       "      <td>0.744681</td>\n",
       "      <td>0.255319</td>\n",
       "    </tr>\n",
       "    <tr>\n",
       "      <th>F1</th>\n",
       "      <td>0.733333</td>\n",
       "      <td>0.266667</td>\n",
       "    </tr>\n",
       "    <tr>\n",
       "      <th>F2</th>\n",
       "      <td>0.726087</td>\n",
       "      <td>0.273913</td>\n",
       "    </tr>\n",
       "    <tr>\n",
       "      <th>F3</th>\n",
       "      <td>0.735294</td>\n",
       "      <td>0.264706</td>\n",
       "    </tr>\n",
       "    <tr>\n",
       "      <th>F4</th>\n",
       "      <td>0.682119</td>\n",
       "      <td>0.317881</td>\n",
       "    </tr>\n",
       "    <tr>\n",
       "      <th>F5</th>\n",
       "      <td>0.553398</td>\n",
       "      <td>0.446602</td>\n",
       "    </tr>\n",
       "    <tr>\n",
       "      <th>G1</th>\n",
       "      <td>0.734694</td>\n",
       "      <td>0.265306</td>\n",
       "    </tr>\n",
       "    <tr>\n",
       "      <th>G2</th>\n",
       "      <td>0.640000</td>\n",
       "      <td>0.360000</td>\n",
       "    </tr>\n",
       "    <tr>\n",
       "      <th>G3</th>\n",
       "      <td>0.590909</td>\n",
       "      <td>0.409091</td>\n",
       "    </tr>\n",
       "    <tr>\n",
       "      <th>G4</th>\n",
       "      <td>0.767857</td>\n",
       "      <td>0.232143</td>\n",
       "    </tr>\n",
       "    <tr>\n",
       "      <th>G5</th>\n",
       "      <td>0.640000</td>\n",
       "      <td>0.360000</td>\n",
       "    </tr>\n",
       "  </tbody>\n",
       "</table>\n",
       "</div>"
      ],
      "text/plain": [
       "loan_status         0         1\n",
       "sub_grade                      \n",
       "A1           0.977114  0.022886\n",
       "A2           0.953540  0.046460\n",
       "A3           0.950920  0.049080\n",
       "A4           0.940890  0.059110\n",
       "A5           0.924731  0.075269\n",
       "B1           0.914181  0.085819\n",
       "B2           0.897861  0.102139\n",
       "B3           0.885191  0.114809\n",
       "B4           0.877965  0.122035\n",
       "B5           0.869118  0.130882\n",
       "C1           0.852232  0.147768\n",
       "C2           0.849198  0.150802\n",
       "C3           0.832148  0.167852\n",
       "C4           0.837934  0.162066\n",
       "C5           0.832717  0.167283\n",
       "D1           0.833136  0.166864\n",
       "D2           0.810442  0.189558\n",
       "D3           0.789425  0.210575\n",
       "D4           0.787845  0.212155\n",
       "D5           0.770287  0.229713\n",
       "E1           0.746228  0.253772\n",
       "E2           0.757426  0.242574\n",
       "E3           0.796512  0.203488\n",
       "E4           0.728132  0.271868\n",
       "E5           0.744681  0.255319\n",
       "F1           0.733333  0.266667\n",
       "F2           0.726087  0.273913\n",
       "F3           0.735294  0.264706\n",
       "F4           0.682119  0.317881\n",
       "F5           0.553398  0.446602\n",
       "G1           0.734694  0.265306\n",
       "G2           0.640000  0.360000\n",
       "G3           0.590909  0.409091\n",
       "G4           0.767857  0.232143\n",
       "G5           0.640000  0.360000"
      ]
     },
     "execution_count": 119,
     "metadata": {},
     "output_type": "execute_result"
    }
   ],
   "source": [
    "print(chi2_contingency(pd.crosstab(lending_clean2.sub_grade,lending_clean2.loan_status)))\n",
    "pd.crosstab(lending_clean2.sub_grade,lending_clean2.loan_status).apply(lambda r: r/r.sum(), axis=1)"
   ]
  },
  {
   "cell_type": "markdown",
   "metadata": {},
   "source": [
    "Note:From the above matrix it was found that sub grade and Loan Status are dependent, but due to presence of grades not considering for top 5 analysis."
   ]
  },
  {
   "cell_type": "code",
   "execution_count": 120,
   "metadata": {},
   "outputs": [
    {
     "name": "stdout",
     "output_type": "stream",
     "text": [
      "(17.414811680629022, 0.06567454717999019, 10, array([[2615.51189921,  410.48810079],\n",
      "       [7266.55933134, 1140.44066866],\n",
      "       [3609.51014246,  566.48985754],\n",
      "       [3383.05141226,  530.94858774],\n",
      "       [2849.7497461 ,  447.2502539 ],\n",
      "       [2704.53956795,  424.46043205],\n",
      "       [1833.27849908,  287.72150092],\n",
      "       [1466.79566852,  230.20433148],\n",
      "       [1214.40654937,  190.59345063],\n",
      "       [1043.26598227,  163.73401773],\n",
      "       [3502.33120145,  549.66879855]]))\n"
     ]
    },
    {
     "data": {
      "text/html": [
       "<div>\n",
       "<style scoped>\n",
       "    .dataframe tbody tr th:only-of-type {\n",
       "        vertical-align: middle;\n",
       "    }\n",
       "\n",
       "    .dataframe tbody tr th {\n",
       "        vertical-align: top;\n",
       "    }\n",
       "\n",
       "    .dataframe thead th {\n",
       "        text-align: right;\n",
       "    }\n",
       "</style>\n",
       "<table border=\"1\" class=\"dataframe\">\n",
       "  <thead>\n",
       "    <tr style=\"text-align: right;\">\n",
       "      <th>loan_status</th>\n",
       "      <th>0</th>\n",
       "      <th>1</th>\n",
       "    </tr>\n",
       "    <tr>\n",
       "      <th>emp_length</th>\n",
       "      <th></th>\n",
       "      <th></th>\n",
       "    </tr>\n",
       "  </thead>\n",
       "  <tbody>\n",
       "    <tr>\n",
       "      <th>1 year</th>\n",
       "      <td>0.865169</td>\n",
       "      <td>0.134831</td>\n",
       "    </tr>\n",
       "    <tr>\n",
       "      <th>10+ years</th>\n",
       "      <td>0.853337</td>\n",
       "      <td>0.146663</td>\n",
       "    </tr>\n",
       "    <tr>\n",
       "      <th>2 years</th>\n",
       "      <td>0.873563</td>\n",
       "      <td>0.126437</td>\n",
       "    </tr>\n",
       "    <tr>\n",
       "      <th>3 years</th>\n",
       "      <td>0.866888</td>\n",
       "      <td>0.133112</td>\n",
       "    </tr>\n",
       "    <tr>\n",
       "      <th>4 years</th>\n",
       "      <td>0.870488</td>\n",
       "      <td>0.129512</td>\n",
       "    </tr>\n",
       "    <tr>\n",
       "      <th>5 years</th>\n",
       "      <td>0.865133</td>\n",
       "      <td>0.134867</td>\n",
       "    </tr>\n",
       "    <tr>\n",
       "      <th>6 years</th>\n",
       "      <td>0.864686</td>\n",
       "      <td>0.135314</td>\n",
       "    </tr>\n",
       "    <tr>\n",
       "      <th>7 years</th>\n",
       "      <td>0.853860</td>\n",
       "      <td>0.146140</td>\n",
       "    </tr>\n",
       "    <tr>\n",
       "      <th>8 years</th>\n",
       "      <td>0.864057</td>\n",
       "      <td>0.135943</td>\n",
       "    </tr>\n",
       "    <tr>\n",
       "      <th>9 years</th>\n",
       "      <td>0.878210</td>\n",
       "      <td>0.121790</td>\n",
       "    </tr>\n",
       "    <tr>\n",
       "      <th>&lt; 1 year</th>\n",
       "      <td>0.869200</td>\n",
       "      <td>0.130800</td>\n",
       "    </tr>\n",
       "  </tbody>\n",
       "</table>\n",
       "</div>"
      ],
      "text/plain": [
       "loan_status         0         1\n",
       "emp_length                     \n",
       "1 year       0.865169  0.134831\n",
       "10+ years    0.853337  0.146663\n",
       "2 years      0.873563  0.126437\n",
       "3 years      0.866888  0.133112\n",
       "4 years      0.870488  0.129512\n",
       "5 years      0.865133  0.134867\n",
       "6 years      0.864686  0.135314\n",
       "7 years      0.853860  0.146140\n",
       "8 years      0.864057  0.135943\n",
       "9 years      0.878210  0.121790\n",
       "< 1 year     0.869200  0.130800"
      ]
     },
     "execution_count": 120,
     "metadata": {},
     "output_type": "execute_result"
    }
   ],
   "source": [
    "print(chi2_contingency(pd.crosstab(lending_clean2.emp_length,lending_clean2.loan_status)))\n",
    "pd.crosstab(lending_clean2.emp_length,lending_clean2.loan_status).apply(lambda r: r/r.sum(), axis=1)"
   ]
  },
  {
   "cell_type": "markdown",
   "metadata": {},
   "source": [
    "Note:From the above matrix it was found that emp_length and Loan Status are independent, not considering for top 5 analysis."
   ]
  },
  {
   "cell_type": "code",
   "execution_count": 121,
   "metadata": {},
   "outputs": [
    {
     "name": "stdout",
     "output_type": "stream",
     "text": [
      "(24.980385438160972, 1.55869935866093e-05, 3, array([[1.40871160e+04, 2.21088403e+03],\n",
      "       [8.12485521e+01, 1.27514479e+01],\n",
      "       [2.22569172e+03, 3.49308281e+02],\n",
      "       [1.50949438e+04, 2.36905624e+03]]))\n"
     ]
    },
    {
     "data": {
      "text/html": [
       "<div>\n",
       "<style scoped>\n",
       "    .dataframe tbody tr th:only-of-type {\n",
       "        vertical-align: middle;\n",
       "    }\n",
       "\n",
       "    .dataframe tbody tr th {\n",
       "        vertical-align: top;\n",
       "    }\n",
       "\n",
       "    .dataframe thead th {\n",
       "        text-align: right;\n",
       "    }\n",
       "</style>\n",
       "<table border=\"1\" class=\"dataframe\">\n",
       "  <thead>\n",
       "    <tr style=\"text-align: right;\">\n",
       "      <th>loan_status</th>\n",
       "      <th>0</th>\n",
       "      <th>1</th>\n",
       "    </tr>\n",
       "    <tr>\n",
       "      <th>home_ownership</th>\n",
       "      <th></th>\n",
       "      <th></th>\n",
       "    </tr>\n",
       "  </thead>\n",
       "  <tbody>\n",
       "    <tr>\n",
       "      <th>MORTGAGE</th>\n",
       "      <td>0.873543</td>\n",
       "      <td>0.126457</td>\n",
       "    </tr>\n",
       "    <tr>\n",
       "      <th>OTHER</th>\n",
       "      <td>0.808511</td>\n",
       "      <td>0.191489</td>\n",
       "    </tr>\n",
       "    <tr>\n",
       "      <th>OWN</th>\n",
       "      <td>0.865631</td>\n",
       "      <td>0.134369</td>\n",
       "    </tr>\n",
       "    <tr>\n",
       "      <th>RENT</th>\n",
       "      <td>0.855875</td>\n",
       "      <td>0.144125</td>\n",
       "    </tr>\n",
       "  </tbody>\n",
       "</table>\n",
       "</div>"
      ],
      "text/plain": [
       "loan_status            0         1\n",
       "home_ownership                    \n",
       "MORTGAGE        0.873543  0.126457\n",
       "OTHER           0.808511  0.191489\n",
       "OWN             0.865631  0.134369\n",
       "RENT            0.855875  0.144125"
      ]
     },
     "execution_count": 121,
     "metadata": {},
     "output_type": "execute_result"
    }
   ],
   "source": [
    "print(chi2_contingency(pd.crosstab(lending_clean2.home_ownership,lending_clean2.loan_status)))\n",
    "pd.crosstab(lending_clean2.home_ownership,lending_clean2.loan_status).apply(lambda r: r/r.sum(), axis=1)"
   ]
  },
  {
   "cell_type": "markdown",
   "metadata": {},
   "source": [
    "Note:From the above matrix it was found that house ownership and Loan Status are independent, not considering for top 5 analysis."
   ]
  },
  {
   "cell_type": "code",
   "execution_count": 122,
   "metadata": {},
   "outputs": [
    {
     "name": "stdout",
     "output_type": "stream",
     "text": [
      "(82.59167321323606, 1.1626420764059871e-18, 2, array([[13011.86917735,  2042.13082265],\n",
      "       [ 8168.93686695,  1282.06313305],\n",
      "       [10308.1939557 ,  1617.8060443 ]]))\n"
     ]
    },
    {
     "data": {
      "text/html": [
       "<div>\n",
       "<style scoped>\n",
       "    .dataframe tbody tr th:only-of-type {\n",
       "        vertical-align: middle;\n",
       "    }\n",
       "\n",
       "    .dataframe tbody tr th {\n",
       "        vertical-align: top;\n",
       "    }\n",
       "\n",
       "    .dataframe thead th {\n",
       "        text-align: right;\n",
       "    }\n",
       "</style>\n",
       "<table border=\"1\" class=\"dataframe\">\n",
       "  <thead>\n",
       "    <tr style=\"text-align: right;\">\n",
       "      <th>loan_status</th>\n",
       "      <th>0</th>\n",
       "      <th>1</th>\n",
       "    </tr>\n",
       "    <tr>\n",
       "      <th>verification_status</th>\n",
       "      <th></th>\n",
       "      <th></th>\n",
       "    </tr>\n",
       "  </thead>\n",
       "  <tbody>\n",
       "    <tr>\n",
       "      <th>Not Verified</th>\n",
       "      <td>0.882490</td>\n",
       "      <td>0.117510</td>\n",
       "    </tr>\n",
       "    <tr>\n",
       "      <th>Source Verified</th>\n",
       "      <td>0.860121</td>\n",
       "      <td>0.139879</td>\n",
       "    </tr>\n",
       "    <tr>\n",
       "      <th>Verified</th>\n",
       "      <td>0.844793</td>\n",
       "      <td>0.155207</td>\n",
       "    </tr>\n",
       "  </tbody>\n",
       "</table>\n",
       "</div>"
      ],
      "text/plain": [
       "loan_status                 0         1\n",
       "verification_status                    \n",
       "Not Verified         0.882490  0.117510\n",
       "Source Verified      0.860121  0.139879\n",
       "Verified             0.844793  0.155207"
      ]
     },
     "execution_count": 122,
     "metadata": {},
     "output_type": "execute_result"
    }
   ],
   "source": [
    "print(chi2_contingency(pd.crosstab(lending_clean2.verification_status,lending_clean2.loan_status)))\n",
    "pd.crosstab(lending_clean2.verification_status,lending_clean2.loan_status).apply(lambda r: r/r.sum(), axis=1)"
   ]
  },
  {
   "cell_type": "markdown",
   "metadata": {},
   "source": [
    "Note:From the above matrix it was found that verification and Loan Status are independent, not considering for top 5 analysis."
   ]
  },
  {
   "cell_type": "code",
   "execution_count": 123,
   "metadata": {},
   "outputs": [
    {
     "name": "stdout",
     "output_type": "stream",
     "text": [
      "loan_status             0     1\n",
      "purpose                        \n",
      "car                  1294   149\n",
      "credit_card          4247   479\n",
      "debt_consolidation  14960  2508\n",
      "educational           231    45\n",
      "home_improvement     2409   296\n",
      "house                 291    52\n",
      "major_purchase       1818   190\n",
      "medical               539    95\n",
      "moving                450    79\n",
      "other                3029   546\n",
      "renewable_energy       73    15\n",
      "small_business       1058   356\n",
      "vacation              287    49\n",
      "wedding               803    83\n",
      "(304.8327562611808, 2.342690296810268e-57, 13, array([[1.24725171e+03, 1.95748291e+02],\n",
      "       [4.08490061e+03, 6.41099393e+02],\n",
      "       [1.50984011e+04, 2.36959886e+03],\n",
      "       [2.38559578e+02, 3.74404216e+01],\n",
      "       [2.33805674e+03, 3.66943263e+02],\n",
      "       [2.96470780e+02, 4.65292196e+01],\n",
      "       [1.73560737e+03, 2.72392633e+02],\n",
      "       [5.47995553e+02, 8.60044468e+01],\n",
      "       [4.57239192e+02, 7.17608081e+01],\n",
      "       [3.09003802e+03, 4.84961983e+02],\n",
      "       [7.60624743e+01, 1.19375257e+01],\n",
      "       [1.22218567e+03, 1.91814334e+02],\n",
      "       [2.90420356e+02, 4.55796437e+01],\n",
      "       [7.65810820e+02, 1.20189180e+02]]))\n"
     ]
    },
    {
     "data": {
      "image/png": "[encoded data removed]",
      "text/plain": [
       "<Figure size 432x288 with 1 Axes>"
      ]
     },
     "metadata": {},
     "output_type": "display_data"
    }
   ],
   "source": [
    "print(pd.crosstab(lending_clean2.purpose,lending_clean2.loan_status))\n",
    "print(chi2_contingency(pd.crosstab(lending_clean2.purpose,lending_clean2.loan_status)))\n",
    "ct=pd.crosstab(lending_clean2.purpose,lending_clean2.loan_status).apply(lambda r: r/r.sum(), axis=1)\n",
    "ct.plot.bar(stacked=True)\n",
    "plt.legend(title='mark')\n",
    "plt.show()"
   ]
  },
  {
   "cell_type": "markdown",
   "metadata": {},
   "source": [
    "Note:From the above matrix it was found that purpose and Loan Status are dependent, considering for top 5 analysis."
   ]
  },
  {
   "cell_type": "code",
   "execution_count": 124,
   "metadata": {},
   "outputs": [
    {
     "name": "stdout",
     "output_type": "stream",
     "text": [
      "(135.75837160250418, 1.4986003333688494e-10, 47, array([[6.48259724e+01, 1.01740276e+01],\n",
      "       [3.56975021e+02, 5.60249787e+01],\n",
      "       [1.94477917e+02, 3.05220828e+01],\n",
      "       [6.76783152e+02, 1.06216848e+02],\n",
      "       [5.64936741e+03, 8.86632593e+02],\n",
      "       [6.11092833e+02, 9.59071670e+01],\n",
      "       [5.86026790e+02, 9.19732096e+01],\n",
      "       [1.78055337e+02, 2.79446625e+01],\n",
      "       [9.16207076e+01, 1.43792924e+01],\n",
      "       [2.26112992e+03, 3.54870083e+02],\n",
      "       [1.11587107e+03, 1.75128929e+02],\n",
      "       [1.39159754e+02, 2.18402459e+01],\n",
      "       [8.64346298e-01, 1.35653702e-01],\n",
      "       [2.59303890e+00, 4.06961105e-01],\n",
      "       [1.23255782e+03, 1.93442178e+02],\n",
      "       [2.15222228e+02, 3.37777717e+01],\n",
      "       [2.64489967e+02, 4.15100327e+01],\n",
      "       [3.44009827e+02, 5.39901732e+01],\n",
      "       [1.05623118e+03, 1.65768823e+02],\n",
      "       [8.41873295e+02, 1.32126705e+02],\n",
      "       [5.67011172e+02, 8.89888282e+01],\n",
      "       [4.86626966e+02, 7.63730340e+01],\n",
      "       [5.39352090e+02, 8.46479097e+01],\n",
      "       [1.55582334e+01, 2.44176663e+00],\n",
      "       [6.30972798e+01, 9.90272021e+00],\n",
      "       [6.08499794e+02, 9.55002059e+01],\n",
      "       [8.64346298e-01, 1.35653702e-01],\n",
      "       [1.30516291e+02, 2.04837089e+01],\n",
      "       [1.48926867e+03, 2.33731328e+02],\n",
      "       [1.44345832e+02, 2.26541682e+01],\n",
      "       [3.97599297e+02, 6.24007027e+01],\n",
      "       [3.02002597e+03, 4.73974033e+02],\n",
      "       [9.83626088e+02, 1.54373912e+02],\n",
      "       [2.44610002e+02, 3.83899975e+01],\n",
      "       [3.56110675e+02, 5.58893250e+01],\n",
      "       [1.22477870e+03, 1.92221295e+02],\n",
      "       [1.63361450e+02, 2.56385496e+01],\n",
      "       [3.75990640e+02, 5.90093602e+01],\n",
      "       [4.92677390e+01, 7.73226099e+00],\n",
      "       [8.64346298e+00, 1.35653702e+00],\n",
      "       [2.17469529e+03, 3.41304713e+02],\n",
      "       [2.02257034e+02, 3.17429662e+01],\n",
      "       [1.12019280e+03, 1.75807197e+02],\n",
      "       [4.14886223e+01, 6.51137767e+00],\n",
      "       [6.40480607e+02, 1.00519393e+02],\n",
      "       [3.50924597e+02, 5.50754028e+01],\n",
      "       [1.39159754e+02, 2.18402459e+01],\n",
      "       [6.74190113e+01, 1.05809887e+01]]))\n"
     ]
    },
    {
     "data": {
      "image/png": "[encoded data removed]",
      "text/plain": [
       "<Figure size 432x288 with 1 Axes>"
      ]
     },
     "metadata": {},
     "output_type": "display_data"
    }
   ],
   "source": [
    "print(chi2_contingency(pd.crosstab(lending_clean2.addr_state,lending_clean2.loan_status)))\n",
    "ct=pd.crosstab(lending_clean2.addr_state,lending_clean2.loan_status).apply(lambda r: r/r.sum(), axis=1)\n",
    "ct.plot.bar(stacked=True)\n",
    "plt.legend(title='mark')\n",
    "plt.show()"
   ]
  },
  {
   "cell_type": "markdown",
   "metadata": {},
   "source": [
    "Note:From the above matrix it was found that address and Loan Status are dependent, considering for top 5 analysis."
   ]
  },
  {
   "cell_type": "code",
   "execution_count": 125,
   "metadata": {},
   "outputs": [
    {
     "name": "stdout",
     "output_type": "stream",
     "text": [
      "(1028.8437154463566, 1.156491153800867e-07, 804, array([[ 0.8643463 ,  0.1356537 ],\n",
      "       [77.79116686, 12.20883314],\n",
      "       [12.10084818,  1.89915182],\n",
      "       ...,\n",
      "       [18.15127227,  2.84872773],\n",
      "       [ 8.64346298,  1.35653702],\n",
      "       [ 0.8643463 ,  0.1356537 ]]))\n"
     ]
    },
    {
     "data": {
      "text/html": [
       "<div>\n",
       "<style scoped>\n",
       "    .dataframe tbody tr th:only-of-type {\n",
       "        vertical-align: middle;\n",
       "    }\n",
       "\n",
       "    .dataframe tbody tr th {\n",
       "        vertical-align: top;\n",
       "    }\n",
       "\n",
       "    .dataframe thead th {\n",
       "        text-align: right;\n",
       "    }\n",
       "</style>\n",
       "<table border=\"1\" class=\"dataframe\">\n",
       "  <thead>\n",
       "    <tr style=\"text-align: right;\">\n",
       "      <th>loan_status</th>\n",
       "      <th>0</th>\n",
       "      <th>1</th>\n",
       "    </tr>\n",
       "    <tr>\n",
       "      <th>zip_code</th>\n",
       "      <th></th>\n",
       "      <th></th>\n",
       "    </tr>\n",
       "  </thead>\n",
       "  <tbody>\n",
       "    <tr>\n",
       "      <th>007xx</th>\n",
       "      <td>1.000000</td>\n",
       "      <td>0.000000</td>\n",
       "    </tr>\n",
       "    <tr>\n",
       "      <th>010xx</th>\n",
       "      <td>0.855556</td>\n",
       "      <td>0.144444</td>\n",
       "    </tr>\n",
       "    <tr>\n",
       "      <th>011xx</th>\n",
       "      <td>0.928571</td>\n",
       "      <td>0.071429</td>\n",
       "    </tr>\n",
       "    <tr>\n",
       "      <th>012xx</th>\n",
       "      <td>0.928571</td>\n",
       "      <td>0.071429</td>\n",
       "    </tr>\n",
       "    <tr>\n",
       "      <th>013xx</th>\n",
       "      <td>0.785714</td>\n",
       "      <td>0.214286</td>\n",
       "    </tr>\n",
       "    <tr>\n",
       "      <th>014xx</th>\n",
       "      <td>0.793103</td>\n",
       "      <td>0.206897</td>\n",
       "    </tr>\n",
       "    <tr>\n",
       "      <th>015xx</th>\n",
       "      <td>0.844828</td>\n",
       "      <td>0.155172</td>\n",
       "    </tr>\n",
       "    <tr>\n",
       "      <th>016xx</th>\n",
       "      <td>0.956522</td>\n",
       "      <td>0.043478</td>\n",
       "    </tr>\n",
       "    <tr>\n",
       "      <th>017xx</th>\n",
       "      <td>0.942857</td>\n",
       "      <td>0.057143</td>\n",
       "    </tr>\n",
       "    <tr>\n",
       "      <th>018xx</th>\n",
       "      <td>0.876923</td>\n",
       "      <td>0.123077</td>\n",
       "    </tr>\n",
       "    <tr>\n",
       "      <th>019xx</th>\n",
       "      <td>0.888889</td>\n",
       "      <td>0.111111</td>\n",
       "    </tr>\n",
       "    <tr>\n",
       "      <th>020xx</th>\n",
       "      <td>0.887097</td>\n",
       "      <td>0.112903</td>\n",
       "    </tr>\n",
       "    <tr>\n",
       "      <th>021xx</th>\n",
       "      <td>0.918478</td>\n",
       "      <td>0.081522</td>\n",
       "    </tr>\n",
       "    <tr>\n",
       "      <th>022xx</th>\n",
       "      <td>1.000000</td>\n",
       "      <td>0.000000</td>\n",
       "    </tr>\n",
       "    <tr>\n",
       "      <th>023xx</th>\n",
       "      <td>0.833333</td>\n",
       "      <td>0.166667</td>\n",
       "    </tr>\n",
       "    <tr>\n",
       "      <th>024xx</th>\n",
       "      <td>0.888889</td>\n",
       "      <td>0.111111</td>\n",
       "    </tr>\n",
       "    <tr>\n",
       "      <th>025xx</th>\n",
       "      <td>0.842105</td>\n",
       "      <td>0.157895</td>\n",
       "    </tr>\n",
       "    <tr>\n",
       "      <th>026xx</th>\n",
       "      <td>0.761905</td>\n",
       "      <td>0.238095</td>\n",
       "    </tr>\n",
       "    <tr>\n",
       "      <th>027xx</th>\n",
       "      <td>0.880952</td>\n",
       "      <td>0.119048</td>\n",
       "    </tr>\n",
       "    <tr>\n",
       "      <th>028xx</th>\n",
       "      <td>0.858209</td>\n",
       "      <td>0.141791</td>\n",
       "    </tr>\n",
       "    <tr>\n",
       "      <th>029xx</th>\n",
       "      <td>0.888889</td>\n",
       "      <td>0.111111</td>\n",
       "    </tr>\n",
       "    <tr>\n",
       "      <th>030xx</th>\n",
       "      <td>0.868852</td>\n",
       "      <td>0.131148</td>\n",
       "    </tr>\n",
       "    <tr>\n",
       "      <th>031xx</th>\n",
       "      <td>0.818182</td>\n",
       "      <td>0.181818</td>\n",
       "    </tr>\n",
       "    <tr>\n",
       "      <th>032xx</th>\n",
       "      <td>0.857143</td>\n",
       "      <td>0.142857</td>\n",
       "    </tr>\n",
       "    <tr>\n",
       "      <th>033xx</th>\n",
       "      <td>1.000000</td>\n",
       "      <td>0.000000</td>\n",
       "    </tr>\n",
       "    <tr>\n",
       "      <th>034xx</th>\n",
       "      <td>0.888889</td>\n",
       "      <td>0.111111</td>\n",
       "    </tr>\n",
       "    <tr>\n",
       "      <th>035xx</th>\n",
       "      <td>1.000000</td>\n",
       "      <td>0.000000</td>\n",
       "    </tr>\n",
       "    <tr>\n",
       "      <th>037xx</th>\n",
       "      <td>0.777778</td>\n",
       "      <td>0.222222</td>\n",
       "    </tr>\n",
       "    <tr>\n",
       "      <th>038xx</th>\n",
       "      <td>0.833333</td>\n",
       "      <td>0.166667</td>\n",
       "    </tr>\n",
       "    <tr>\n",
       "      <th>040xx</th>\n",
       "      <td>1.000000</td>\n",
       "      <td>0.000000</td>\n",
       "    </tr>\n",
       "    <tr>\n",
       "      <th>...</th>\n",
       "      <td>...</td>\n",
       "      <td>...</td>\n",
       "    </tr>\n",
       "    <tr>\n",
       "      <th>967xx</th>\n",
       "      <td>0.820000</td>\n",
       "      <td>0.180000</td>\n",
       "    </tr>\n",
       "    <tr>\n",
       "      <th>968xx</th>\n",
       "      <td>0.864407</td>\n",
       "      <td>0.135593</td>\n",
       "    </tr>\n",
       "    <tr>\n",
       "      <th>969xx</th>\n",
       "      <td>1.000000</td>\n",
       "      <td>0.000000</td>\n",
       "    </tr>\n",
       "    <tr>\n",
       "      <th>970xx</th>\n",
       "      <td>0.849315</td>\n",
       "      <td>0.150685</td>\n",
       "    </tr>\n",
       "    <tr>\n",
       "      <th>971xx</th>\n",
       "      <td>0.761905</td>\n",
       "      <td>0.238095</td>\n",
       "    </tr>\n",
       "    <tr>\n",
       "      <th>972xx</th>\n",
       "      <td>0.885246</td>\n",
       "      <td>0.114754</td>\n",
       "    </tr>\n",
       "    <tr>\n",
       "      <th>973xx</th>\n",
       "      <td>0.844828</td>\n",
       "      <td>0.155172</td>\n",
       "    </tr>\n",
       "    <tr>\n",
       "      <th>974xx</th>\n",
       "      <td>0.771930</td>\n",
       "      <td>0.228070</td>\n",
       "    </tr>\n",
       "    <tr>\n",
       "      <th>975xx</th>\n",
       "      <td>0.888889</td>\n",
       "      <td>0.111111</td>\n",
       "    </tr>\n",
       "    <tr>\n",
       "      <th>976xx</th>\n",
       "      <td>0.888889</td>\n",
       "      <td>0.111111</td>\n",
       "    </tr>\n",
       "    <tr>\n",
       "      <th>977xx</th>\n",
       "      <td>0.857143</td>\n",
       "      <td>0.142857</td>\n",
       "    </tr>\n",
       "    <tr>\n",
       "      <th>978xx</th>\n",
       "      <td>1.000000</td>\n",
       "      <td>0.000000</td>\n",
       "    </tr>\n",
       "    <tr>\n",
       "      <th>980xx</th>\n",
       "      <td>0.865000</td>\n",
       "      <td>0.135000</td>\n",
       "    </tr>\n",
       "    <tr>\n",
       "      <th>981xx</th>\n",
       "      <td>0.865772</td>\n",
       "      <td>0.134228</td>\n",
       "    </tr>\n",
       "    <tr>\n",
       "      <th>982xx</th>\n",
       "      <td>0.839080</td>\n",
       "      <td>0.160920</td>\n",
       "    </tr>\n",
       "    <tr>\n",
       "      <th>983xx</th>\n",
       "      <td>0.803571</td>\n",
       "      <td>0.196429</td>\n",
       "    </tr>\n",
       "    <tr>\n",
       "      <th>984xx</th>\n",
       "      <td>0.836735</td>\n",
       "      <td>0.163265</td>\n",
       "    </tr>\n",
       "    <tr>\n",
       "      <th>985xx</th>\n",
       "      <td>0.837209</td>\n",
       "      <td>0.162791</td>\n",
       "    </tr>\n",
       "    <tr>\n",
       "      <th>986xx</th>\n",
       "      <td>0.740000</td>\n",
       "      <td>0.260000</td>\n",
       "    </tr>\n",
       "    <tr>\n",
       "      <th>988xx</th>\n",
       "      <td>1.000000</td>\n",
       "      <td>0.000000</td>\n",
       "    </tr>\n",
       "    <tr>\n",
       "      <th>989xx</th>\n",
       "      <td>0.894737</td>\n",
       "      <td>0.105263</td>\n",
       "    </tr>\n",
       "    <tr>\n",
       "      <th>990xx</th>\n",
       "      <td>0.909091</td>\n",
       "      <td>0.090909</td>\n",
       "    </tr>\n",
       "    <tr>\n",
       "      <th>991xx</th>\n",
       "      <td>0.714286</td>\n",
       "      <td>0.285714</td>\n",
       "    </tr>\n",
       "    <tr>\n",
       "      <th>992xx</th>\n",
       "      <td>0.897436</td>\n",
       "      <td>0.102564</td>\n",
       "    </tr>\n",
       "    <tr>\n",
       "      <th>993xx</th>\n",
       "      <td>0.952381</td>\n",
       "      <td>0.047619</td>\n",
       "    </tr>\n",
       "    <tr>\n",
       "      <th>995xx</th>\n",
       "      <td>0.843750</td>\n",
       "      <td>0.156250</td>\n",
       "    </tr>\n",
       "    <tr>\n",
       "      <th>996xx</th>\n",
       "      <td>0.777778</td>\n",
       "      <td>0.222222</td>\n",
       "    </tr>\n",
       "    <tr>\n",
       "      <th>997xx</th>\n",
       "      <td>0.714286</td>\n",
       "      <td>0.285714</td>\n",
       "    </tr>\n",
       "    <tr>\n",
       "      <th>998xx</th>\n",
       "      <td>1.000000</td>\n",
       "      <td>0.000000</td>\n",
       "    </tr>\n",
       "    <tr>\n",
       "      <th>999xx</th>\n",
       "      <td>0.000000</td>\n",
       "      <td>1.000000</td>\n",
       "    </tr>\n",
       "  </tbody>\n",
       "</table>\n",
       "<p>805 rows × 2 columns</p>\n",
       "</div>"
      ],
      "text/plain": [
       "loan_status         0         1\n",
       "zip_code                       \n",
       "007xx        1.000000  0.000000\n",
       "010xx        0.855556  0.144444\n",
       "011xx        0.928571  0.071429\n",
       "012xx        0.928571  0.071429\n",
       "013xx        0.785714  0.214286\n",
       "014xx        0.793103  0.206897\n",
       "015xx        0.844828  0.155172\n",
       "016xx        0.956522  0.043478\n",
       "017xx        0.942857  0.057143\n",
       "018xx        0.876923  0.123077\n",
       "019xx        0.888889  0.111111\n",
       "020xx        0.887097  0.112903\n",
       "021xx        0.918478  0.081522\n",
       "022xx        1.000000  0.000000\n",
       "023xx        0.833333  0.166667\n",
       "024xx        0.888889  0.111111\n",
       "025xx        0.842105  0.157895\n",
       "026xx        0.761905  0.238095\n",
       "027xx        0.880952  0.119048\n",
       "028xx        0.858209  0.141791\n",
       "029xx        0.888889  0.111111\n",
       "030xx        0.868852  0.131148\n",
       "031xx        0.818182  0.181818\n",
       "032xx        0.857143  0.142857\n",
       "033xx        1.000000  0.000000\n",
       "034xx        0.888889  0.111111\n",
       "035xx        1.000000  0.000000\n",
       "037xx        0.777778  0.222222\n",
       "038xx        0.833333  0.166667\n",
       "040xx        1.000000  0.000000\n",
       "...               ...       ...\n",
       "967xx        0.820000  0.180000\n",
       "968xx        0.864407  0.135593\n",
       "969xx        1.000000  0.000000\n",
       "970xx        0.849315  0.150685\n",
       "971xx        0.761905  0.238095\n",
       "972xx        0.885246  0.114754\n",
       "973xx        0.844828  0.155172\n",
       "974xx        0.771930  0.228070\n",
       "975xx        0.888889  0.111111\n",
       "976xx        0.888889  0.111111\n",
       "977xx        0.857143  0.142857\n",
       "978xx        1.000000  0.000000\n",
       "980xx        0.865000  0.135000\n",
       "981xx        0.865772  0.134228\n",
       "982xx        0.839080  0.160920\n",
       "983xx        0.803571  0.196429\n",
       "984xx        0.836735  0.163265\n",
       "985xx        0.837209  0.162791\n",
       "986xx        0.740000  0.260000\n",
       "988xx        1.000000  0.000000\n",
       "989xx        0.894737  0.105263\n",
       "990xx        0.909091  0.090909\n",
       "991xx        0.714286  0.285714\n",
       "992xx        0.897436  0.102564\n",
       "993xx        0.952381  0.047619\n",
       "995xx        0.843750  0.156250\n",
       "996xx        0.777778  0.222222\n",
       "997xx        0.714286  0.285714\n",
       "998xx        1.000000  0.000000\n",
       "999xx        0.000000  1.000000\n",
       "\n",
       "[805 rows x 2 columns]"
      ]
     },
     "execution_count": 125,
     "metadata": {},
     "output_type": "execute_result"
    }
   ],
   "source": [
    "print(chi2_contingency(pd.crosstab(lending_clean2.zip_code,lending_clean2.loan_status)))\n",
    "pd.crosstab(lending_clean2.zip_code,lending_clean2.loan_status).apply(lambda r: r/r.sum(), axis=1)"
   ]
  },
  {
   "cell_type": "markdown",
   "metadata": {},
   "source": [
    "Note:Not considering as full information is  not available"
   ]
  },
  {
   "cell_type": "code",
   "execution_count": 63,
   "metadata": {},
   "outputs": [],
   "source": [
    "# issued Date/Month Analysis"
   ]
  },
  {
   "cell_type": "code",
   "execution_count": 126,
   "metadata": {},
   "outputs": [
    {
     "name": "stdout",
     "output_type": "stream",
     "text": [
      "(44.998238508316966, 3.979314326534397e-09, 4, array([[3.45738519e+00, 5.42614806e-01],\n",
      "       [9.10156652e+02, 1.42843348e+02],\n",
      "       [3.82300368e+03, 5.99996322e+02],\n",
      "       [9.33061829e+03, 1.46438171e+03],\n",
      "       [1.74217640e+04, 2.73423601e+03]]))\n"
     ]
    },
    {
     "name": "stderr",
     "output_type": "stream",
     "text": [
      "E:\\Anaconda\\lib\\site-packages\\ipykernel_launcher.py:1: UserWarning: Pandas doesn't allow columns to be created via a new attribute name - see https://pandas.pydata.org/pandas-docs/stable/indexing.html#attribute-access\n",
      "  \"\"\"Entry point for launching an IPython kernel.\n"
     ]
    },
    {
     "data": {
      "text/html": [
       "<div>\n",
       "<style scoped>\n",
       "    .dataframe tbody tr th:only-of-type {\n",
       "        vertical-align: middle;\n",
       "    }\n",
       "\n",
       "    .dataframe tbody tr th {\n",
       "        vertical-align: top;\n",
       "    }\n",
       "\n",
       "    .dataframe thead th {\n",
       "        text-align: right;\n",
       "    }\n",
       "</style>\n",
       "<table border=\"1\" class=\"dataframe\">\n",
       "  <thead>\n",
       "    <tr style=\"text-align: right;\">\n",
       "      <th>loan_status</th>\n",
       "      <th>0</th>\n",
       "      <th>1</th>\n",
       "    </tr>\n",
       "    <tr>\n",
       "      <th>issue_d</th>\n",
       "      <th></th>\n",
       "      <th></th>\n",
       "    </tr>\n",
       "  </thead>\n",
       "  <tbody>\n",
       "    <tr>\n",
       "      <th>-07</th>\n",
       "      <td>0.750000</td>\n",
       "      <td>0.250000</td>\n",
       "    </tr>\n",
       "    <tr>\n",
       "      <th>-08</th>\n",
       "      <td>0.848053</td>\n",
       "      <td>0.151947</td>\n",
       "    </tr>\n",
       "    <tr>\n",
       "      <th>-09</th>\n",
       "      <td>0.877685</td>\n",
       "      <td>0.122315</td>\n",
       "    </tr>\n",
       "    <tr>\n",
       "      <th>-10</th>\n",
       "      <td>0.878740</td>\n",
       "      <td>0.121260</td>\n",
       "    </tr>\n",
       "    <tr>\n",
       "      <th>-11</th>\n",
       "      <td>0.854584</td>\n",
       "      <td>0.145416</td>\n",
       "    </tr>\n",
       "  </tbody>\n",
       "</table>\n",
       "</div>"
      ],
      "text/plain": [
       "loan_status         0         1\n",
       "issue_d                        \n",
       "-07          0.750000  0.250000\n",
       "-08          0.848053  0.151947\n",
       "-09          0.877685  0.122315\n",
       "-10          0.878740  0.121260\n",
       "-11          0.854584  0.145416"
      ]
     },
     "execution_count": 126,
     "metadata": {},
     "output_type": "execute_result"
    }
   ],
   "source": [
    "lending_clean2.issue_d_mnth=lending_clean2.issue_d.apply(lambda x: x[-3:])\n",
    "print(chi2_contingency(pd.crosstab(lending_clean2.issue_d_mnth,lending_clean2.loan_status)))\n",
    "pd.crosstab(lending_clean2.issue_d_mnth,lending_clean2.loan_status).apply(lambda r: r/r.sum(), axis=1)"
   ]
  },
  {
   "cell_type": "markdown",
   "metadata": {},
   "source": [
    "Note: Not much impact for Issue Date , not considering for top 5."
   ]
  },
  {
   "cell_type": "markdown",
   "metadata": {},
   "source": [
    "# ---------------------Analysis part- 4---------------------------"
   ]
  },
  {
   "cell_type": "markdown",
   "metadata": {},
   "source": [
    "# Does Revol_util has co relation with other considered features like Interest Rate , Installment, dti ,bankruptcies "
   ]
  },
  {
   "cell_type": "code",
   "execution_count": 127,
   "metadata": {},
   "outputs": [
    {
     "data": {
      "text/html": [
       "<div>\n",
       "<style scoped>\n",
       "    .dataframe tbody tr th:only-of-type {\n",
       "        vertical-align: middle;\n",
       "    }\n",
       "\n",
       "    .dataframe tbody tr th {\n",
       "        vertical-align: top;\n",
       "    }\n",
       "\n",
       "    .dataframe thead th {\n",
       "        text-align: right;\n",
       "    }\n",
       "</style>\n",
       "<table border=\"1\" class=\"dataframe\">\n",
       "  <thead>\n",
       "    <tr style=\"text-align: right;\">\n",
       "      <th></th>\n",
       "      <th>int_rate</th>\n",
       "      <th>installment</th>\n",
       "      <th>dti</th>\n",
       "      <th>pub_rec_bankruptcies</th>\n",
       "      <th>revol_util</th>\n",
       "    </tr>\n",
       "    <tr>\n",
       "      <th>loan_status</th>\n",
       "      <th></th>\n",
       "      <th></th>\n",
       "      <th></th>\n",
       "      <th></th>\n",
       "      <th></th>\n",
       "    </tr>\n",
       "  </thead>\n",
       "  <tbody>\n",
       "    <tr>\n",
       "      <th>0</th>\n",
       "      <td>11.782528</td>\n",
       "      <td>324.205962</td>\n",
       "      <td>13.331804</td>\n",
       "      <td>0.037886</td>\n",
       "      <td>48.195377</td>\n",
       "    </tr>\n",
       "    <tr>\n",
       "      <th>1</th>\n",
       "      <td>13.930376</td>\n",
       "      <td>338.814334</td>\n",
       "      <td>14.161042</td>\n",
       "      <td>0.063537</td>\n",
       "      <td>56.161926</td>\n",
       "    </tr>\n",
       "  </tbody>\n",
       "</table>\n",
       "</div>"
      ],
      "text/plain": [
       "              int_rate  installment        dti  pub_rec_bankruptcies  \\\n",
       "loan_status                                                            \n",
       "0            11.782528   324.205962  13.331804              0.037886   \n",
       "1            13.930376   338.814334  14.161042              0.063537   \n",
       "\n",
       "             revol_util  \n",
       "loan_status              \n",
       "0             48.195377  \n",
       "1             56.161926  "
      ]
     },
     "execution_count": 127,
     "metadata": {},
     "output_type": "execute_result"
    }
   ],
   "source": [
    "lending_clean2.groupby('loan_status')[['int_rate','installment','dti','pub_rec_bankruptcies','revol_util']].mean()"
   ]
  },
  {
   "cell_type": "markdown",
   "metadata": {},
   "source": [
    "# Does Revol_util has co relation with other considered features like term"
   ]
  },
  {
   "cell_type": "code",
   "execution_count": 128,
   "metadata": {},
   "outputs": [
    {
     "data": {
      "text/html": [
       "<div>\n",
       "<style scoped>\n",
       "    .dataframe tbody tr th:only-of-type {\n",
       "        vertical-align: middle;\n",
       "    }\n",
       "\n",
       "    .dataframe tbody tr th {\n",
       "        vertical-align: top;\n",
       "    }\n",
       "\n",
       "    .dataframe thead th {\n",
       "        text-align: right;\n",
       "    }\n",
       "</style>\n",
       "<table border=\"1\" class=\"dataframe\">\n",
       "  <thead>\n",
       "    <tr style=\"text-align: right;\">\n",
       "      <th></th>\n",
       "      <th>revol_util</th>\n",
       "    </tr>\n",
       "    <tr>\n",
       "      <th>term</th>\n",
       "      <th></th>\n",
       "    </tr>\n",
       "  </thead>\n",
       "  <tbody>\n",
       "    <tr>\n",
       "      <th>36 months</th>\n",
       "      <td>48.065098</td>\n",
       "    </tr>\n",
       "    <tr>\n",
       "      <th>60 months</th>\n",
       "      <td>52.452220</td>\n",
       "    </tr>\n",
       "  </tbody>\n",
       "</table>\n",
       "</div>"
      ],
      "text/plain": [
       "            revol_util\n",
       "term                  \n",
       " 36 months   48.065098\n",
       " 60 months   52.452220"
      ]
     },
     "execution_count": 128,
     "metadata": {},
     "output_type": "execute_result"
    }
   ],
   "source": [
    "lending_clean2.groupby('term')[['revol_util']].mean()"
   ]
  },
  {
   "cell_type": "markdown",
   "metadata": {},
   "source": [
    "# Does Revol_util has co relation with other considered features like grades"
   ]
  },
  {
   "cell_type": "code",
   "execution_count": 129,
   "metadata": {},
   "outputs": [
    {
     "data": {
      "text/html": [
       "<div>\n",
       "<style scoped>\n",
       "    .dataframe tbody tr th:only-of-type {\n",
       "        vertical-align: middle;\n",
       "    }\n",
       "\n",
       "    .dataframe tbody tr th {\n",
       "        vertical-align: top;\n",
       "    }\n",
       "\n",
       "    .dataframe thead th {\n",
       "        text-align: right;\n",
       "    }\n",
       "</style>\n",
       "<table border=\"1\" class=\"dataframe\">\n",
       "  <thead>\n",
       "    <tr style=\"text-align: right;\">\n",
       "      <th></th>\n",
       "      <th>revol_util</th>\n",
       "    </tr>\n",
       "    <tr>\n",
       "      <th>grade</th>\n",
       "      <th></th>\n",
       "    </tr>\n",
       "  </thead>\n",
       "  <tbody>\n",
       "    <tr>\n",
       "      <th>A</th>\n",
       "      <td>30.189006</td>\n",
       "    </tr>\n",
       "    <tr>\n",
       "      <th>B</th>\n",
       "      <td>46.871027</td>\n",
       "    </tr>\n",
       "    <tr>\n",
       "      <th>C</th>\n",
       "      <td>56.829573</td>\n",
       "    </tr>\n",
       "    <tr>\n",
       "      <th>D</th>\n",
       "      <td>63.184754</td>\n",
       "    </tr>\n",
       "    <tr>\n",
       "      <th>E</th>\n",
       "      <td>68.048166</td>\n",
       "    </tr>\n",
       "    <tr>\n",
       "      <th>F</th>\n",
       "      <td>70.137564</td>\n",
       "    </tr>\n",
       "    <tr>\n",
       "      <th>G</th>\n",
       "      <td>75.414094</td>\n",
       "    </tr>\n",
       "  </tbody>\n",
       "</table>\n",
       "</div>"
      ],
      "text/plain": [
       "       revol_util\n",
       "grade            \n",
       "A       30.189006\n",
       "B       46.871027\n",
       "C       56.829573\n",
       "D       63.184754\n",
       "E       68.048166\n",
       "F       70.137564\n",
       "G       75.414094"
      ]
     },
     "execution_count": 129,
     "metadata": {},
     "output_type": "execute_result"
    }
   ],
   "source": [
    "lending_clean2.groupby('grade')[['revol_util']].mean()"
   ]
  },
  {
   "cell_type": "markdown",
   "metadata": {},
   "source": [
    "Note 1: Compared to other variables like installments, dti, bankrupt, int_rate and term, revol_util has the same property and a major key indicator.\n",
    "\n",
    "\n",
    "Note 2: Rev_util has the same behaviour as the grades, both have the same behaviour with loan status from previous plots i.e. increasing revol_util and poor grades have higher Defaults. So finally considered revol_util as key indicator. "
   ]
  },
  {
   "cell_type": "markdown",
   "metadata": {},
   "source": [
    "# Based on the behaviour and Independent nature of all atributes to wards Loan Status we have decided to below mentioned variables in Top 5\n",
    "# 1.rev util \n",
    "# 2.inq_6 month\n",
    "# 3.annual income\n",
    "# 4.purpose\n",
    "# 5.address_state\n"
   ]
  }
 ],
 "metadata": {
  "kernelspec": {
   "display_name": "Python 3",
   "language": "python",
   "name": "python3"
  },
  "language_info": {
   "codemirror_mode": {
    "name": "ipython",
    "version": 3
   },
   "file_extension": ".py",
   "mimetype": "text/x-python",
   "name": "python",
   "nbconvert_exporter": "python",
   "pygments_lexer": "ipython3",
   "version": "3.6.5"
  }
 },
 "nbformat": 4,
 "nbformat_minor": 2
}
